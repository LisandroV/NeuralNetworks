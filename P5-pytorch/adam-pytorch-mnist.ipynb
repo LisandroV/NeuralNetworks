{
 "cells": [
  {
   "cell_type": "markdown",
   "metadata": {},
   "source": [
    "## Red neuronal de tres capas en Pytorch\n",
    "\n",
    "Los números utilizados para ejercicio se pueden descargar de:\n",
    "http://yann.lecun.com/exdb/mnist/\n",
    "\n",
    "Los archivos descomprimidos deberán de colocarse en la carpeta /mnist/"
   ]
  },
  {
   "cell_type": "code",
   "execution_count": 84,
   "metadata": {},
   "outputs": [],
   "source": [
    "import numpy as np\n",
    "import importlib"
   ]
  },
  {
   "cell_type": "code",
   "execution_count": 85,
   "metadata": {},
   "outputs": [],
   "source": [
    "import torch\n",
    "from torch.autograd import Variable\n",
    "from time import time\n",
    "import torch.nn as nn\n",
    "import torch.optim as optim\n",
    "import torch.utils.data as utils\n",
    "from torch.utils.data import Dataset, TensorDataset\n",
    "import torchvision\n",
    "from torchvision import datasets, transforms\n",
    "device = torch.device('cpu')"
   ]
  },
  {
   "cell_type": "code",
   "execution_count": 86,
   "metadata": {},
   "outputs": [],
   "source": [
    "%matplotlib inline\n",
    "\n",
    "import matplotlib.pyplot as plt\n",
    "import matplotlib.cm as cm\n",
    "import json, matplotlib\n",
    "s = json.load( open(\"styles/bmh_matplotlibrc.json\") )\n",
    "matplotlib.rcParams.update(s)\n",
    "from IPython.core.pylabtools import figsize\n",
    "figsize(11, 5)\n",
    "colores = [\"#348ABD\", \"#A60628\",\"#06A628\"]"
   ]
  },
  {
   "cell_type": "code",
   "execution_count": 87,
   "metadata": {},
   "outputs": [],
   "source": [
    "from ipywidgets import interact, interact_manual, interactive, fixed\n",
    "import ipywidgets as widgets\n",
    "from IPython.display import display\n",
    "from tqdm import tqdm"
   ]
  },
  {
   "cell_type": "markdown",
   "metadata": {},
   "source": [
    "# Datos\n",
    "\n",
    "Los datos a utilizar son imágenes de dígitos.  En su formato original, se leen dos vectores:\n",
    "* Los datos de **entrada** vienen en un vector 3D.\n",
    "  * Cada renglón corresponde a un ejemplar de entrenamiento.\n",
    "  * En cada renglón hay una matriz 2D con las intensidades de los pixels.\n",
    "* Las etiquetas (dígito correcto que representan) vienen en un vector de una dimensión."
   ]
  },
  {
   "cell_type": "code",
   "execution_count": 88,
   "metadata": {
    "scrolled": true
   },
   "outputs": [
    {
     "name": "stdout",
     "output_type": "stream",
     "text": [
      "Vector de  3  dimensiones:  (60000, 28, 28)  tipo  <class 'numpy.uint8'>\n",
      "Vector de  1  dimensiones:  (60000,)  tipo  <class 'numpy.uint8'>\n",
      "Vector de  3  dimensiones:  (10000, 28, 28)  tipo  <class 'numpy.uint8'>\n",
      "Vector de  1  dimensiones:  (10000,)  tipo  <class 'numpy.uint8'>\n"
     ]
    }
   ],
   "source": [
    "from mnist.read import read, printFull\n",
    "\n",
    "filesDir = './mnist/'\n",
    "trainingSetFile = filesDir + 'train-images.idx3-ubyte'\n",
    "trainingSetLabelsFile = filesDir + 'train-labels.idx1-ubyte'\n",
    "testSetFile = filesDir + 't10k-images.idx3-ubyte'\n",
    "testSetLabelsFile = filesDir + 't10k-labels.idx1-ubyte'\n",
    "\n",
    "\n",
    "###     /\\ |__   __||  ____|| \\ | | / ____||_   _|/ __ \\ | \\ | |\n",
    "###    /  \\   | |   | |__   |  \\| || |       | | | |  | ||  \\| |\n",
    "###   / /\\ \\  | |   |  __|  | . ` || |       | | | |  | || . ` |\n",
    "###  / ____ \\ | |   | |____ | |\\  || |____  _| |_| |__| || |\\  |\n",
    "### /_/    \\_\\|_|   |______||_| \\_| \\_____||_____|\\____/ |_| \\_|\n",
    "### EN LAS SIQUIENTES DOS LINEAS SE LIMITA EL TAMAÑO DE LOS DATOS DE ENTRENAMIENTO,EN CASO\n",
    "### DE INCREMENTAR LA CANTIDAD EL CALCULO TOMA DRASTICAMENTE MAS TIEMPO EN EL CASO DE APROXIMACION DEL GRADIENTE,SE INCLUYE\n",
    "### IMPRESION DEL PROGRESO DEL METODO\n",
    "\n",
    "\n",
    "\n",
    "trainData = read(fileName=trainingSetFile).astype(np.float64)\n",
    "trainDataLabels = read(fileName=trainingSetLabelsFile).astype(np.float64)\n",
    "\n",
    "testData = read(fileName=testSetFile).astype(np.float64)\n",
    "testDataLabels = read(fileName=testSetLabelsFile).astype(np.float64)"
   ]
  },
  {
   "cell_type": "code",
   "execution_count": 89,
   "metadata": {},
   "outputs": [],
   "source": [
    "import mnist.plot\n",
    "from mnist.plot import muestraImagen"
   ]
  },
  {
   "cell_type": "code",
   "execution_count": 90,
   "metadata": {},
   "outputs": [
    {
     "data": {
      "application/vnd.jupyter.widget-view+json": {
       "model_id": "786b95d0fbe14e2da08391c6729dcaef",
       "version_major": 2,
       "version_minor": 0
      },
      "text/plain": [
       "interactive(children=(IntSlider(value=29999, description='indice', max=59999), Output()), _dom_classes=('widge…"
      ]
     },
     "metadata": {},
     "output_type": "display_data"
    }
   ],
   "source": [
    "@interact(\n",
    "    indice = (0, len(trainData) - 1)\n",
    ")\n",
    "def muestraImagenEntrenamiento(indice):\n",
    "    muestraImagen(trainData, trainDataLabels, indice)"
   ]
  },
  {
   "cell_type": "markdown",
   "metadata": {},
   "source": [
    "Para poder trabajar con la red neuronal, necesitaremos transformar esas entradas, de modo que los valores de las intensidades de los pixeles se encuentren en un solo renglón.  Las entradas a la red neuronal, deberán ser de la forma:\n",
    "\\begin{align}\n",
    "  X &= \\begin{bmatrix}\n",
    "       x_1^{(1)} ... x_n^{(1)}  \\\\\n",
    "       x_1^{(2)} ... x_n^{(2)}  \\\\\n",
    "       ...\\\\\n",
    "       x_1^{(m)} ... x_n^{(m)}\n",
    "      \\end{bmatrix}\n",
    "\\end{align}\n",
    "También necesitaremos que las etiquetas formen una matriz donde la única columna distinta de cero, sea la correspondiente al dígito correcto:\n",
    "\\begin{align}\n",
    "  Y &= \\begin{bmatrix}\n",
    "       0, ..., y_{label_0} = 1 , ... ,0 \\\\\n",
    "       ... \\\\\n",
    "       0, ..., y_{label_n} = 1 , ... ,0 \\\\\n",
    "      \\end{bmatrix}\n",
    "\\end{align}\n"
   ]
  },
  {
   "cell_type": "code",
   "execution_count": 91,
   "metadata": {},
   "outputs": [],
   "source": [
    "class CustomDataset(Dataset):\n",
    "    def __init__(self, x_tensor, y_tensor):\n",
    "        self.x = torch.FloatTensor([x_tensor])\n",
    "        self.y = torch.FloatTensor([y_tensor])\n",
    "        \n",
    "    def __getitem__(self, index):\n",
    "        return (self.x[index], self.y[index])\n",
    "\n",
    "    def __len__(self):\n",
    "        return len(self.x)"
   ]
  },
  {
   "cell_type": "code",
   "execution_count": 92,
   "metadata": {},
   "outputs": [
    {
     "name": "stdout",
     "output_type": "stream",
     "text": [
      "Vector de  3  dimensiones:  (60000, 28, 28)  tipo  <class 'numpy.uint8'>\n",
      "Vector de  1  dimensiones:  (60000,)  tipo  <class 'numpy.uint8'>\n"
     ]
    }
   ],
   "source": [
    "## Define las matrices X y Y, como se muestra arriba\n",
    "## A partir de trainData y trainDataLabels\n",
    "## TIP: usar reshape\n",
    "def makeX(file_set):\n",
    "    data = read(file_set).astype(np.float64)\n",
    "    data = np.reshape(data,(len(data),-1)) #flattening image into vector\n",
    "    data = (data - data.mean())/data.std() #normalizing data\n",
    "    return data\n",
    "\n",
    "def makeY(file_labels):\n",
    "    data = read(file_labels).astype(np.float64)\n",
    "    return data\n",
    "\n",
    "x_train_numpy = makeX(\"mnist/train-images.idx3-ubyte\")\n",
    "y_train_numpy = makeY(\"mnist/train-labels.idx1-ubyte\")\n",
    "\n",
    "x_train_tensor = torch.FloatTensor(x_train_numpy)\n",
    "y_train_tensor = torch.FloatTensor(y_train_numpy)\n",
    "\n",
    "#train_data = CustomDataset(x_train_tensor, y_train_tensor)\n",
    "train_data = utils.TensorDataset(x_train_tensor,y_train_tensor)\n",
    "XY_Train = utils.DataLoader(train_data, batch_size=128, shuffle=False) # create your dataloader\n",
    "\n",
    "#for i,batch in enumerate(XY_Train):\n",
    "#    print(i,batch)"
   ]
  },
  {
   "cell_type": "code",
   "execution_count": 93,
   "metadata": {},
   "outputs": [
    {
     "name": "stdout",
     "output_type": "stream",
     "text": [
      "Vector de  3  dimensiones:  (10000, 28, 28)  tipo  <class 'numpy.uint8'>\n",
      "Vector de  1  dimensiones:  (10000,)  tipo  <class 'numpy.uint8'>\n"
     ]
    }
   ],
   "source": [
    "## Repite lo mismo con los datos de entrenamiento\n",
    "XTest = makeX(\"mnist/t10k-images.idx3-ubyte\")\n",
    "YTest = makeY(\"mnist/t10k-labels.idx1-ubyte\")"
   ]
  },
  {
   "cell_type": "markdown",
   "metadata": {},
   "source": [
    "## Red con tres capas\n",
    "La red neuronal que se utilizará es una red neuronal de tres capas:\n",
    "* Entrada\n",
    "* Oculta\n",
    "* Salida\n",
    "La forma genérica de la red se ilustra a continuación.  Sólo que la red de este ejercicio tendrá más neuronas en cada capa.\n",
    "<img src=\"figuras/Red3Capas.png\"/>\n",
    "Para este ejercicio el número de neuronas será:\n",
    "* 785 + 1 (28x28 pixeles más la unidad de sesgo)\n",
    "* X + 1 unidades en la capa oculta donde X es elección del diseñador\n",
    "* 10 neuronas de salida (una por cada dígito)\n",
    "Por lo tanto, las dimensiones de las matrices de pesos son:\n",
    "* $\\Theta^{(0)} \\rightarrow (25 \\times 786)$\n",
    "* $\\Theta^{(1)} \\rightarrow (10 \\times 26)$"
   ]
  },
  {
   "cell_type": "code",
   "execution_count": 94,
   "metadata": {},
   "outputs": [],
   "source": [
    "## Programa una clase RedNeuronal en PyTorch con la arquitectura anterior.\n",
    "\n",
    "class NN:\n",
    "    def __init__(self,input_size,hidden,output_size):\n",
    "        self.model = nn.Sequential(\n",
    "            nn.Linear(input_size,hidden),\n",
    "            nn.ReLU(),\n",
    "            nn.BatchNorm1d(hidden),\n",
    "            nn.Linear(hidden,output_size),\n",
    "            nn.Softmax(dim=1),\n",
    "            nn.BatchNorm1d(output_size)\n",
    "          ).to(device)\n",
    "        self.losses = []\n",
    "        \n",
    "    def feedForward(self,X):\n",
    "        return self.model(X)\n",
    "    \n",
    "    def backPropagate(self,X,Y):\n",
    "        self.loss = nn.CrossEntropyLoss()\n",
    "        out = self.feedForward(X)\n",
    "        error = self.loss(out,Y)\n",
    "        error.backward()\n",
    "        return error\n",
    "        \n",
    "    def train(self,XY_DataLoader,NofE=100):\n",
    "        self.optimizer = optim.AdamW(self.model.parameters(), lr=0.001, betas=(0.9, 0.999), eps=1e-08, weight_decay=0.01, amsgrad=False)\n",
    "        self.loss = nn.CrossEntropyLoss()\n",
    "        for epoch in tqdm(range(NofE)):\n",
    "            for x_batch, y_batch in XY_DataLoader:\n",
    "                x_batch = x_batch.to(device)\n",
    "                y_batch = y_batch.to(device)\n",
    "                self.train_step(x_batch,y_batch)\n",
    "                #print(len(x_batch))\n",
    "    \n",
    "    def train_step(self,x,y):\n",
    "         # Sets model to TRAIN mode\n",
    "        self.model.train()\n",
    "        # Makes predictions\n",
    "        yhat = self.model(x)\n",
    "        # Computes loss\n",
    "        loss = self.loss(yhat,y.long())\n",
    "        # Computes gradients\n",
    "        loss.backward()\n",
    "        # Updates parameters and zeroes gradients\n",
    "        self.optimizer.step()\n",
    "        self.optimizer.zero_grad()\n",
    "        # saves the loss\n",
    "        self.losses.append(loss.item())\n",
    "                \n",
    "    def test(self,test_X,test_Y):\n",
    "        tensor_X = Variable(torch.FloatTensor(test_X),requires_grad = True).to(device)\n",
    "        tensor_Y = Variable(torch.LongTensor(test_Y),requires_grad = False).to(device)\n",
    "        out = self.feedForward(tensor_X)\n",
    "        accT = out.argmax(dim=1)==tensor_Y\n",
    "        accT = torch.sum(accT)\n",
    "        acc = accT.data.numpy()/test_X.shape[0]\n",
    "        print(\"Acc:\",acc*100,\"%\")\n",
    "        return acc"
   ]
  },
  {
   "cell_type": "code",
   "execution_count": 95,
   "metadata": {},
   "outputs": [
    {
     "name": "stderr",
     "output_type": "stream",
     "text": [
      "100%|██████████| 100/100 [02:13<00:00,  1.33s/it]"
     ]
    },
    {
     "name": "stdout",
     "output_type": "stream",
     "text": [
      "Acc: 95.52000000000001 %\n"
     ]
    },
    {
     "name": "stderr",
     "output_type": "stream",
     "text": [
      "\n"
     ]
    },
    {
     "data": {
      "text/plain": [
       "0.9552"
      ]
     },
     "execution_count": 95,
     "metadata": {},
     "output_type": "execute_result"
    }
   ],
   "source": [
    "## Entrena la red neuronal implementada en la celda anterior y grafica el error\n",
    "mnist_nn = NN(784,26,10)\n",
    "mnist_nn.train(XY_Train,100)\n",
    "mnist_nn.test(XTest,YTest)"
   ]
  },
  {
   "cell_type": "code",
   "execution_count": 82,
   "metadata": {},
   "outputs": [],
   "source": [
    "## Prueba el modelo entrenado con los datos de prueba y muestra la métrica de exatitud"
   ]
  },
  {
   "cell_type": "code",
   "execution_count": 83,
   "metadata": {},
   "outputs": [
    {
     "data": {
      "application/vnd.jupyter.widget-view+json": {
       "model_id": "27e111ddd620456a8fb8b894695a3d98",
       "version_major": 2,
       "version_minor": 0
      },
      "text/plain": [
       "interactive(children=(IntSlider(value=29999, description='indice', max=59999), Output()), _dom_classes=('widge…"
      ]
     },
     "metadata": {},
     "output_type": "display_data"
    },
    {
     "data": {
      "image/png": "[encoded data removed]",
      "text/plain": [
       "<Figure size 216x216 with 1 Axes>"
      ]
     },
     "metadata": {
      "needs_background": "light"
     },
     "output_type": "display_data"
    }
   ],
   "source": [
    "@interact(\n",
    "    indice = (0, len(trainData) - 1)\n",
    ")\n",
    "def muestraImagenEntrenamiento(indice):\n",
    "    muestraImagen(trainData, trainDataLabels, indice)\n",
    "    tensor_X = torch.FloatTensor([x_train_tensor[indice].numpy()])\n",
    "    print(\"PREDICCIÓN:\" + str(mnist_nn.feedForward(tensor_X).argmax(dim=1)))"
   ]
  },
  {
   "cell_type": "code",
   "execution_count": null,
   "metadata": {},
   "outputs": [],
   "source": []
  }
 ],
 "metadata": {
  "kernelspec": {
   "display_name": "Python 3",
   "language": "python",
   "name": "python3"
  },
  "language_info": {
   "codemirror_mode": {
    "name": "ipython",
    "version": 3
   },
   "file_extension": ".py",
   "mimetype": "text/x-python",
   "name": "python",
   "nbconvert_exporter": "python",
   "pygments_lexer": "ipython3",
   "version": "3.7.4"
  }
 },
 "nbformat": 4,
 "nbformat_minor": 1
}
