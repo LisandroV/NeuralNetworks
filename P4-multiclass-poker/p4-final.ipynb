{
 "cells": [
  {
   "cell_type": "markdown",
   "metadata": {
    "colab_type": "text",
    "id": "X6SfMLdA0VgG"
   },
   "source": [
    "# Poker Dataset con clasificación multiclase y regularización"
   ]
  },
  {
   "cell_type": "code",
   "execution_count": 48,
   "metadata": {
    "colab": {},
    "colab_type": "code",
    "id": "YvpA3yFz0VgI"
   },
   "outputs": [],
   "source": [
    "%matplotlib inline\n",
    "\n",
    "import matplotlib.pyplot as plt\n",
    "import matplotlib.cm as cm\n",
    "import json, matplotlib\n",
    "#s = json.load( open(\"styles/bmh_matplotlibrc.json\") )\n",
    "#matplotlib.rcParams.update(s)\n",
    "from IPython.core.pylabtools import figsize\n",
    "from tqdm import tqdm\n",
    "figsize(11, 5)\n",
    "colores = [\"#348ABD\", \"#A60628\",\"#06A628\"]"
   ]
  },
  {
   "cell_type": "code",
   "execution_count": 49,
   "metadata": {
    "colab": {},
    "colab_type": "code",
    "id": "iY0sO9LR0VgP"
   },
   "outputs": [],
   "source": [
    "from ipywidgets import interact, interactive, fixed, interact_manual\n",
    "import ipywidgets as widgets\n",
    "from IPython.display import display"
   ]
  },
  {
   "cell_type": "code",
   "execution_count": 50,
   "metadata": {
    "colab": {},
    "colab_type": "code",
    "id": "tQ2EKMoi0VgT"
   },
   "outputs": [],
   "source": [
    "import numpy as np"
   ]
  },
  {
   "cell_type": "markdown",
   "metadata": {
    "colab_type": "text",
    "id": "8GIo4Yt-0VgX"
   },
   "source": [
    "## Función de activación\n",
    "### Logística"
   ]
  },
  {
   "cell_type": "code",
   "execution_count": 51,
   "metadata": {
    "colab": {},
    "colab_type": "code",
    "id": "-oXn64F40VgZ"
   },
   "outputs": [],
   "source": [
    "# Devuelve la función logística evaluada\n",
    "# componente por componente\n",
    "def logistica(z):\n",
    "    return 1 / (1 + np.exp(-z))"
   ]
  },
  {
   "cell_type": "code",
   "execution_count": 52,
   "metadata": {
    "colab": {},
    "colab_type": "code",
    "id": "n7NLu9XQ0Vgd"
   },
   "outputs": [],
   "source": [
    "## Función que, dado un arreglo de valores z\n",
    "## calcula el valor de la derivada para cada entrada.\n",
    "\n",
    "def derivadaLogistica(z):\n",
    "    g = logistica(z)\n",
    "    return g * (1 - g)"
   ]
  },
  {
   "cell_type": "markdown",
   "metadata": {},
   "source": [
    "### Softmax"
   ]
  },
  {
   "cell_type": "code",
   "execution_count": 53,
   "metadata": {},
   "outputs": [],
   "source": [
    "#z = [1.0, 2.0, 3.0, 4.0, 1.0, 2.0, 3.0]\n",
    "def softmax(z):\n",
    "    z_exp = [np.exp(i) for i in z]\n",
    "    #print([round(i, 2) for i in z_exp])\n",
    "    #[2.72, 7.39, 20.09, 54.6, 2.72, 7.39, 20.09]\n",
    "    sum_z_exp = sum(z_exp)\n",
    "    #print(round(sum_z_exp, 2))\n",
    "    #114.98\n",
    "    soft_m = [(i / sum_z_exp) for i in z_exp]\n",
    "    #print(softmax)\n",
    "    #[0.024, 0.064, 0.175, 0.475, 0.024, 0.064, 0.175]\n",
    "    return np.array(soft_m)"
   ]
  },
  {
   "cell_type": "markdown",
   "metadata": {},
   "source": [
    "## Función de Error"
   ]
  },
  {
   "cell_type": "code",
   "execution_count": 54,
   "metadata": {},
   "outputs": [],
   "source": [
    "# input: (val_obtenido, val_esperado)\n",
    "def entropia_cruzada(hip,y):\n",
    "    return -y*np.log(hip) - (1-y)*np.log(1-hip)\n",
    "\n",
    "def entropia_multiclase(hip,y):\n",
    "    return -np.log(hip[y]) #+regularización"
   ]
  },
  {
   "cell_type": "markdown",
   "metadata": {
    "colab_type": "text",
    "id": "Hhk9wFG90Vgj"
   },
   "source": [
    "## Red neuronal\n",
    "La red implementa encadenamiento hacia adelante (para evaluar) y hacia atrás (para entrenarse)."
   ]
  },
  {
   "cell_type": "code",
   "execution_count": 55,
   "metadata": {
    "colab": {},
    "colab_type": "code",
    "id": "_T_D0r3s0Vgk"
   },
   "outputs": [],
   "source": [
    "np.random.seed(10)"
   ]
  },
  {
   "cell_type": "code",
   "execution_count": 56,
   "metadata": {
    "colab": {},
    "colab_type": "code",
    "id": "0J78Lgya0Vgo"
   },
   "outputs": [],
   "source": [
    "class POKER:\n",
    "    def __init__(self,lamb = 0.3):\n",
    "        \n",
    "        self.lamb = lamb\n",
    "        \n",
    "        neg_pos1 = np.power(-1, np.random.randint(50, size=(6, 11))) #para hacerlos negativos o positivos\n",
    "        neg_pos2 = np.power(-1, np.random.randint(50, size=(10, 7)))\n",
    "        \n",
    "        self.Theta_0 = np.multiply(np.random.random((6,11)), neg_pos1)\n",
    "        self.Theta_1 = np.multiply(np.random.random((10,7)), neg_pos2)\n",
    "    \n",
    "    def feedForward(self, X, vector = None):\n",
    "        \"\"\" Calcula las salidas, dados los datos de entrada. \"\"\"\n",
    "        if vector is None:\n",
    "            Theta_0 = self.Theta_0\n",
    "            Theta_1 = self.Theta_1\n",
    "        else:\n",
    "            Theta_0, Theta_1 = self.reconstructMatrices(vector)\n",
    "        \n",
    "        self.A0 = np.vstack((np.ones((1, X.shape[0])), X.T)) #entrada\n",
    "        \n",
    "        self.Z1 = np.dot(Theta_0, self.A0)#primera capa\n",
    "        self.A1 = np.vstack((np.ones((1, self.Z1.shape[1])), logistica(self.Z1)))\n",
    "        \n",
    "        self.Z2 = np.dot(Theta_1, self.A1) #última capa\n",
    "        self.A2 = softmax(self.Z2)\n",
    "        \n",
    "    \n",
    "        \n",
    "    def backPropagate(self, X, Y):\n",
    "        \"\"\" Calcula el error y su gradiente,\n",
    "        dados los pesos actuales de la red y los resultados\n",
    "        esperados.\n",
    "        \"\"\"\n",
    "        self.feedForward(X)\n",
    "        \n",
    "        m = X.shape[0]\n",
    "        #Delta_2 = (self.A2.T - Y)\n",
    "        A2T = np.copy(self.A2.T)\n",
    "        for i in range(len(Y)):\n",
    "            A2T[i][Y[i]] -= 1\n",
    "        Delta_2 = A2T #Delta_2 = (self.A2.T - Y)\n",
    "        \n",
    "        n = X.shape[0]\n",
    "        self.error = np.sum(entropia_multiclase(self.A2,Y.T)) / (2*n) + (np.sum(np.power(self.Theta_0,2)) + np.sum(np.power(self.Theta_1,2)))  * self.lamb/(2*n)\n",
    "        \n",
    "        #Delta_1 = Delta_2 * self.Theta_1[:,1:] *  derivadaLogistica(self.Z2) #paraxor\n",
    "        Delta_1 = np.multiply(Delta_2, derivadaLogistica(self.Z2.T)).dot(self.Theta_1[:,1:]*self.lamb)\n",
    "        \n",
    "        self.Grad_1 = np.dot(Delta_2.T,self.A1.T) / m\n",
    "        \n",
    "        #Delta_0 = self.Theta_0[:,1:].T * Delta_1 * derivadaLogistica(self.Z1.T)\n",
    "        self.Grad_0 = np.dot(Delta_1.T, self.A0.T) / m\n",
    "        \n",
    "    def calcError(self, X, Y, vector):\n",
    "        \"\"\"\n",
    "        Calcula el error que se cometería utilizando los pesos en 'vector'.\n",
    "        \"\"\"\n",
    "        self.feedForward(X, vector)\n",
    "        n = X.shape[0]\n",
    "        #funcion de predida = funcion de error + regularización\n",
    "        error = np.sum(entropia_multiclase(self.A2,Y.T)) / (2*n) + (np.sum(np.power(self.Theta_0,2)) + np.sum(np.power(self.Theta_1)))  * self.lamb/(2*n)\n",
    "        return error\n",
    "    \n",
    "    def vectorWeights(self):\n",
    "        \"\"\"\n",
    "        Acomoda a todos los parámetros en las matrices de pesos, en un solo vector.\n",
    "        \"\"\"\n",
    "        vector = np.vstack((self.Theta_0.reshape((self.Theta_0.size, 1)),\n",
    "                          self.Theta_1.reshape((self.Theta_1.size, 1))))\n",
    "        #print(self.Theta_0, self.Theta_1, vector)\n",
    "        return vector\n",
    "    \n",
    "    def reconstructMatrices(self, vector):\n",
    "        \"\"\"\n",
    "        Dado un vector, rearma matrices del tamaño de las matrices de pesos.\n",
    "        \"\"\"\n",
    "        M0 = vector[0:self.Theta_0.size].reshape(self.Theta_0.shape)\n",
    "        M1 = vector[self.Theta_0.size:].reshape(self.Theta_1.shape)\n",
    "        return M0, M1\n",
    "        \n",
    "    def approxGradient(self, X, Y):\n",
    "        \"\"\"\n",
    "        Aproxima el valor del gradiente alrededor de los pesos actuales,\n",
    "        perturbando cada valor, uno por uno.\n",
    "        \"\"\"\n",
    "        vector = self.vectorWeights().copy()\n",
    "        approx = np.zeros(vector.shape)\n",
    "        perturb = np.zeros(vector.shape)\n",
    "        epsilon = 0.0001\n",
    "        \n",
    "        for i in range(len(vector)):\n",
    "            perturb[i] = epsilon\n",
    "            loss1 = self.calcError(X, Y, vector - perturb)\n",
    "            loss2 = self.calcError(X, Y, vector + perturb)\n",
    "            perturb[i] = 0\n",
    "            approx[i] = (loss2 - loss1) / (2 * epsilon)\n",
    "        return self.reconstructMatrices(approx)\n",
    "        \n",
    "    def gradientDescent(self, X, Y, alpha, ciclos=10, checkGradient = False):\n",
    "        \"\"\" Evalúa y ajusta los pesos de la red,\n",
    "        de acuerdo a los datos en X y los resultados\n",
    "        esperados, en Y.\n",
    "        \"\"\"\n",
    "        errores = np.zeros(ciclos)\n",
    "        for i in tqdm(range(ciclos)):\n",
    "            self.backPropagate(X, Y)\n",
    "            Grad_1 = self.Grad_1\n",
    "            Grad_0 = self.Grad_0\n",
    "            if checkGradient:\n",
    "                ApproxT0, ApproxT1 = self.approxGradient(X, Y)\n",
    "                print(\"Grad 0 = \", Grad_0, \"\\nApprox = \", ApproxT0, \"\\nDiff = \", Grad_0 - ApproxT0,\n",
    "                     \"\\nGrad 1 = \", Grad_1, \"\\nApprox = \", ApproxT1, \"\\nDiff = \", Grad_1 - ApproxT1)\n",
    "            self.Theta_1 -= alpha * Grad_1\n",
    "            self.Theta_0 -= alpha * Grad_0\n",
    "            errores[i] = self.error\n",
    "        if ciclos > 1:\n",
    "            plt.plot(np.arange(ciclos), errores)\n",
    "        \n",
    "    def printOutput(self):\n",
    "        print(self.A2.T)"
   ]
  },
  {
   "cell_type": "markdown",
   "metadata": {},
   "source": [
    "## Cargando conjunto de entrenamiento"
   ]
  },
  {
   "cell_type": "code",
   "execution_count": 57,
   "metadata": {
    "colab": {},
    "colab_type": "code",
    "id": "oMi2DiEd0Vgt",
    "outputId": "f8f750fe-7a5d-45a4-b1df-bf754a8bf0b8"
   },
   "outputs": [
    {
     "name": "stderr",
     "output_type": "stream",
     "text": [
      "100%|██████████| 1000/1000 [00:00<00:00, 186206.61it/s]\n"
     ]
    }
   ],
   "source": [
    "#xor.printOutput()\n",
    "X,Y=[],[]\n",
    "fh = open('poker-hand-testing.data')\n",
    "for i in tqdm(range(1000)):\n",
    "    row = list(map(int,fh.readline().strip().split(\",\")))\n",
    "    X.append(row[:-1])\n",
    "    Y.append(row[-1:])\n",
    "    \n",
    "X = np.array(X)\n",
    "Y = np.array(Y)\n",
    "fh.close()\n",
    "\n",
    "poker = POKER(0.3) #se crea con lambda para la regularización\n",
    "poker.feedForward(X)"
   ]
  },
  {
   "cell_type": "code",
   "execution_count": 58,
   "metadata": {
    "colab": {},
    "colab_type": "code",
    "id": "ZN4sIGPu0Vgy",
    "outputId": "2bd6fe24-71fb-4d5b-ea0b-f471a8d27795"
   },
   "outputs": [],
   "source": [
    "#print(poker.vectorWeights())\n",
    "T0, T1 = poker.reconstructMatrices(poker.vectorWeights())\n",
    "#print(T0,\"\\n\\n\\n\", T1)"
   ]
  },
  {
   "cell_type": "code",
   "execution_count": 59,
   "metadata": {
    "colab": {},
    "colab_type": "code",
    "id": "eqec90ew0Vg2",
    "outputId": "e1fa47c0-7dd0-4749-81e0-c714089ba111"
   },
   "outputs": [
    {
     "name": "stderr",
     "output_type": "stream",
     "text": [
      "100%|██████████| 1/1 [00:00<00:00, 28.77it/s]\n"
     ]
    }
   ],
   "source": [
    "poker.gradientDescent(X, Y, 0.3, 1, checkGradient = False)"
   ]
  },
  {
   "cell_type": "code",
   "execution_count": 60,
   "metadata": {
    "colab": {},
    "colab_type": "code",
    "id": "OWp2m4940Vg5",
    "outputId": "f4a65530-ae53-4a2e-bc6a-dccdbeb46a69"
   },
   "outputs": [
    {
     "data": {
      "application/vnd.jupyter.widget-view+json": {
       "model_id": "5042e229a49046aeb9e6302488b9e62d",
       "version_major": 2,
       "version_minor": 0
      },
      "text/plain": [
       "interactive(children=(IntSlider(value=1025, description='ciclos', max=2000, min=50), Button(description='Run I…"
      ]
     },
     "metadata": {},
     "output_type": "display_data"
    }
   ],
   "source": [
    "@interact_manual(ciclos = (50, 2000))\n",
    "def trainXOR(ciclos):\n",
    "    poker.gradientDescent(X, Y, 0.3, ciclos)"
   ]
  },
  {
   "cell_type": "code",
   "execution_count": 33,
   "metadata": {
    "colab": {},
    "colab_type": "code",
    "id": "CtqYXrTY0Vg8",
    "outputId": "34cd6786-5227-4b1a-ccff-5376540b1f10"
   },
   "outputs": [
    {
     "name": "stdout",
     "output_type": "stream",
     "text": [
      "[[4.60523679e-01 4.58623251e-01 5.17447621e-02 ... 5.90720133e-04\n",
      "  5.38143932e-04 1.07906685e-03]\n",
      " [5.56681382e-01 3.66286559e-01 5.86189862e-02 ... 2.46748094e-04\n",
      "  5.46418214e-04 2.73769356e-04]\n",
      " [4.59747128e-01 4.59591700e-01 5.17680439e-02 ... 5.82053680e-04\n",
      "  5.35717706e-04 1.08088797e-03]\n",
      " ...\n",
      " [6.00064780e-01 3.29788166e-01 3.69688299e-02 ... 7.24507206e-04\n",
      "  8.16741819e-04 1.05515824e-04]\n",
      " [4.77292456e-01 4.59132996e-01 3.51483717e-02 ... 4.41713800e-04\n",
      "  5.95221624e-04 2.87693180e-04]\n",
      " [5.29809811e-01 3.84964438e-01 5.33137623e-02 ... 7.80051995e-04\n",
      "  6.50876028e-04 6.00217710e-04]]\n",
      "Theta_0 =  [[-0.14235884  0.16030016 -0.16631588 -0.43138577 -0.32576686  0.31072601\n",
      "   0.84733594 -0.66754752  0.24681812  1.07816101 -0.54480541]\n",
      " [ 0.54117912  0.08842033  0.62428252 -0.04019893 -0.9901135  -0.27259244\n",
      "  -0.12541831 -0.57225529  0.26615284 -0.20646845 -0.27873167]\n",
      " [ 1.08962116  0.3965661   0.66178182  0.70459626  0.76943002  0.01163978\n",
      "   0.36316527  0.81664129  1.36714513 -0.33962483  0.58558706]\n",
      " [-0.82924204 -1.39335286 -0.59839024 -1.23571537 -0.92552563 -1.41023356\n",
      "  -1.6592171  -0.05344026 -1.85309688 -0.46319915 -2.34246874]\n",
      " [ 0.90561788  0.57997437 -0.66263776  0.03882861  0.66258968 -0.02296338\n",
      "  -0.26748399 -0.23978132  0.52618454 -1.04934572 -1.06900306]\n",
      " [ 0.27489339  0.62357502  2.41140308  1.18776577  1.28698309  0.05713658\n",
      "   1.8279829   0.51466967  0.95043634 -0.20538882  1.3284333 ]] \n",
      "Theta_1 [[ 1.19665292  0.27025964  0.68355686  0.59041623 -0.6853787   0.49912618\n",
      "   2.48280286]\n",
      " [ 1.26939287  0.22701645  0.19392042  0.99269592 -0.60896471 -0.14305759\n",
      "   2.01133876]\n",
      " [ 0.61117028 -0.16466597  1.15204314  0.30838009 -0.16043899  0.28687443\n",
      "   1.16726404]\n",
      " [-0.13719271  0.37605536  0.03032178  0.89314097  0.35745584  0.32267844\n",
      "   0.27844539]\n",
      " [ 0.04640951 -0.03443748 -0.81029489  0.54570802  0.70449507  0.73857889\n",
      "  -0.71180353]\n",
      " [ 0.24572922 -0.43111959 -0.75093475 -0.85043019 -0.89293574  0.47918137\n",
      "  -0.32932955]\n",
      " [-0.17345827  0.23172003  0.51555466 -1.09594704  0.8364442   0.36934831\n",
      "  -1.16638674]\n",
      " [-0.45204737 -0.06004717 -0.26167819 -0.85826423  0.80984042  0.79773961\n",
      "  -1.08180181]\n",
      " [-1.26006356  0.33806862  0.3734103  -1.18834608  0.9621728   0.60055919\n",
      "  -0.03499059]\n",
      " [-0.42409986 -1.13642494  0.4428513  -0.75392125  0.28654937 -0.9378206\n",
      "  -0.58979061]]\n",
      "488.2486148111163\n"
     ]
    }
   ],
   "source": [
    "poker.feedForward(X)\n",
    "poker.printOutput()\n",
    "print(\"Theta_0 = \", poker.Theta_0, \"\\nTheta_1\", poker.Theta_1)\n",
    "print(poker.error)"
   ]
  },
  {
   "cell_type": "code",
   "execution_count": null,
   "metadata": {
    "colab": {},
    "colab_type": "code",
    "id": "gRvwg1Yp0Vg-",
    "outputId": "d9a7d80a-a9c6-4238-91e1-61d86da3019b",
    "scrolled": true
   },
   "outputs": [],
   "source": [
    "from IPython.core.display import HTML\n",
    "def css_styling():\n",
    "    styles = open(\"../P1-HodgkinHuxley/styles/custom.css\", \"r\").read() #or edit path to custom.css\n",
    "    return HTML(styles)\n",
    "css_styling()"
   ]
  }
 ],
 "metadata": {
  "colab": {
   "name": "NN_XOR.ipynb",
   "provenance": [],
   "version": "0.3.2"
  },
  "kernelspec": {
   "display_name": "Python 3",
   "language": "python",
   "name": "python3"
  },
  "language_info": {
   "codemirror_mode": {
    "name": "ipython",
    "version": 3
   },
   "file_extension": ".py",
   "mimetype": "text/x-python",
   "name": "python",
   "nbconvert_exporter": "python",
   "pygments_lexer": "ipython3",
   "version": "3.7.4"
  }
 },
 "nbformat": 4,
 "nbformat_minor": 1
}
