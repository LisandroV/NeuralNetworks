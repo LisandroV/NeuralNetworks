{
 "cells": [
  {
   "cell_type": "markdown",
   "metadata": {
    "colab_type": "text",
    "id": "X6SfMLdA0VgG"
   },
   "source": [
    "# Poker Dataset con clasificación multiclase y regularización"
   ]
  },
  {
   "cell_type": "code",
   "execution_count": 1,
   "metadata": {
    "colab": {},
    "colab_type": "code",
    "id": "YvpA3yFz0VgI"
   },
   "outputs": [],
   "source": [
    "%matplotlib inline\n",
    "\n",
    "import matplotlib.pyplot as plt\n",
    "import matplotlib.cm as cm\n",
    "import json, matplotlib\n",
    "#s = json.load( open(\"styles/bmh_matplotlibrc.json\") )\n",
    "#matplotlib.rcParams.update(s)\n",
    "from IPython.core.pylabtools import figsize\n",
    "from tqdm import tqdm\n",
    "figsize(11, 5)\n",
    "colores = [\"#348ABD\", \"#A60628\",\"#06A628\"]"
   ]
  },
  {
   "cell_type": "code",
   "execution_count": 2,
   "metadata": {
    "colab": {},
    "colab_type": "code",
    "id": "iY0sO9LR0VgP"
   },
   "outputs": [],
   "source": [
    "from ipywidgets import interact, interactive, fixed, interact_manual\n",
    "import ipywidgets as widgets\n",
    "from IPython.display import display"
   ]
  },
  {
   "cell_type": "code",
   "execution_count": 3,
   "metadata": {
    "colab": {},
    "colab_type": "code",
    "id": "tQ2EKMoi0VgT"
   },
   "outputs": [],
   "source": [
    "import numpy as np"
   ]
  },
  {
   "cell_type": "markdown",
   "metadata": {
    "colab_type": "text",
    "id": "8GIo4Yt-0VgX"
   },
   "source": [
    "## Función de activación\n",
    "### Logística"
   ]
  },
  {
   "cell_type": "code",
   "execution_count": 4,
   "metadata": {
    "colab": {},
    "colab_type": "code",
    "id": "-oXn64F40VgZ"
   },
   "outputs": [],
   "source": [
    "# Devuelve la función logística evaluada\n",
    "# componente por componente\n",
    "def logistica(z):\n",
    "    return 1 / (1 + np.exp(-z))"
   ]
  },
  {
   "cell_type": "code",
   "execution_count": 5,
   "metadata": {
    "colab": {},
    "colab_type": "code",
    "id": "n7NLu9XQ0Vgd"
   },
   "outputs": [],
   "source": [
    "## Función que, dado un arreglo de valores z\n",
    "## calcula el valor de la derivada para cada entrada.\n",
    "\n",
    "def derivadaLogistica(z):\n",
    "    g = logistica(z)\n",
    "    return g * (1 - g)"
   ]
  },
  {
   "cell_type": "markdown",
   "metadata": {},
   "source": [
    "### Softmax"
   ]
  },
  {
   "cell_type": "code",
   "execution_count": 6,
   "metadata": {},
   "outputs": [],
   "source": [
    "#z = [1.0, 2.0, 3.0, 4.0, 1.0, 2.0, 3.0]\n",
    "def softmax(z):\n",
    "    z_exp = [np.exp(i) for i in z]\n",
    "    #print([round(i, 2) for i in z_exp])\n",
    "    #[2.72, 7.39, 20.09, 54.6, 2.72, 7.39, 20.09]\n",
    "    sum_z_exp = sum(z_exp)\n",
    "    #print(round(sum_z_exp, 2))\n",
    "    #114.98\n",
    "    soft_m = [(i / sum_z_exp) for i in z_exp]\n",
    "    #print(softmax)\n",
    "    #[0.024, 0.064, 0.175, 0.475, 0.024, 0.064, 0.175]\n",
    "    return np.array(soft_m)"
   ]
  },
  {
   "cell_type": "markdown",
   "metadata": {},
   "source": [
    "## Función de Error"
   ]
  },
  {
   "cell_type": "code",
   "execution_count": 7,
   "metadata": {},
   "outputs": [],
   "source": [
    "# input: (val_obtenido, val_esperado)\n",
    "def entropia_cruzada(hip,y):\n",
    "    return -y*np.log(hip) - (1-y)*np.log(1-hip)\n",
    "\n",
    "def entropia_multiclase(hip,y):\n",
    "    return -np.log(hip[y]) #+regularización"
   ]
  },
  {
   "cell_type": "markdown",
   "metadata": {
    "colab_type": "text",
    "id": "Hhk9wFG90Vgj"
   },
   "source": [
    "## Red neuronal\n",
    "La red implementa encadenamiento hacia adelante (para evaluar) y hacia atrás (para entrenarse)."
   ]
  },
  {
   "cell_type": "code",
   "execution_count": 8,
   "metadata": {
    "colab": {},
    "colab_type": "code",
    "id": "_T_D0r3s0Vgk"
   },
   "outputs": [],
   "source": [
    "np.random.seed(10)"
   ]
  },
  {
   "cell_type": "code",
   "execution_count": 9,
   "metadata": {
    "colab": {},
    "colab_type": "code",
    "id": "0J78Lgya0Vgo"
   },
   "outputs": [],
   "source": [
    "class POKER:\n",
    "    def __init__(self,lamb = 0.3):\n",
    "        \n",
    "        self.lamb = lamb\n",
    "        \n",
    "        neg_pos1 = np.power(-1, np.random.randint(50, size=(6, 11))) #para hacerlos negativos o positivos\n",
    "        neg_pos2 = np.power(-1, np.random.randint(50, size=(10, 7)))\n",
    "        \n",
    "        self.Theta_0 = np.multiply(np.random.random((6,11)), neg_pos1)\n",
    "        self.Theta_1 = np.multiply(np.random.random((10,7)), neg_pos2)\n",
    "    \n",
    "    def feedForward(self, X, vector = None):\n",
    "        \"\"\" Calcula las salidas, dados los datos de entrada. \"\"\"\n",
    "        if vector is None:\n",
    "            Theta_0 = self.Theta_0\n",
    "            Theta_1 = self.Theta_1\n",
    "        else:\n",
    "            Theta_0, Theta_1 = self.reconstructMatrices(vector)\n",
    "        \n",
    "        self.A0 = np.vstack((np.ones((1, X.shape[0])), X.T)) #entrada\n",
    "        \n",
    "        self.Z1 = np.dot(Theta_0, self.A0)#primera capa\n",
    "        self.A1 = np.vstack((np.ones((1, self.Z1.shape[1])), logistica(self.Z1)))\n",
    "        \n",
    "        self.Z2 = np.dot(Theta_1, self.A1) #última capa\n",
    "        self.A2 = softmax(self.Z2)\n",
    "        \n",
    "    \n",
    "        \n",
    "    def backPropagate(self, X, Y):\n",
    "        \"\"\" Calcula el error y su gradiente,\n",
    "        dados los pesos actuales de la red y los resultados\n",
    "        esperados.\n",
    "        \"\"\"\n",
    "        self.feedForward(X)\n",
    "        \n",
    "        m = X.shape[0]\n",
    "        #Delta_2 = (self.A2.T - Y)\n",
    "        A2T = np.copy(self.A2.T)\n",
    "        for i in range(len(Y)):\n",
    "            A2T[i][Y[i]] -= 1\n",
    "        Delta_2 = A2T #Delta_2 = (self.A2.T - Y)\n",
    "        \n",
    "        n = X.shape[0]\n",
    "        self.error = np.sum(entropia_multiclase(self.A2,Y.T)) / (2*n) + (np.sum(np.power(self.Theta_0,2)) + np.sum(np.power(self.Theta_1,2)))  * self.lamb/(2*n)\n",
    "        \n",
    "        #Delta_1 = Delta_2 * self.Theta_1[:,1:] *  derivadaLogistica(self.Z2) #paraxor\n",
    "        Delta_1 = np.multiply(Delta_2, derivadaLogistica(self.Z2.T)).dot(self.Theta_1[:,1:]*self.lamb)\n",
    "        \n",
    "        self.Grad_1 = np.dot(Delta_2.T,self.A1.T) / m\n",
    "        \n",
    "        #Delta_0 = self.Theta_0[:,1:].T * Delta_1 * derivadaLogistica(self.Z1.T)\n",
    "        self.Grad_0 = np.dot(Delta_1.T, self.A0.T) / m\n",
    "        \n",
    "    def calcError(self, X, Y, vector):\n",
    "        \"\"\"\n",
    "        Calcula el error que se cometería utilizando los pesos en 'vector'.\n",
    "        \"\"\"\n",
    "        self.feedForward(X, vector)\n",
    "        n = X.shape[0]\n",
    "        #funcion de predida = funcion de error + regularización\n",
    "        error = np.sum(entropia_multiclase(self.A2,Y.T)) / (2*n) + (np.sum(np.power(self.Theta_0,2)) + np.sum(np.power(self.Theta_1)))  * self.lamb/(2*n)\n",
    "        return error\n",
    "    \n",
    "    def vectorWeights(self):\n",
    "        \"\"\"\n",
    "        Acomoda a todos los parámetros en las matrices de pesos, en un solo vector.\n",
    "        \"\"\"\n",
    "        vector = np.vstack((self.Theta_0.reshape((self.Theta_0.size, 1)),\n",
    "                          self.Theta_1.reshape((self.Theta_1.size, 1))))\n",
    "        #print(self.Theta_0, self.Theta_1, vector)\n",
    "        return vector\n",
    "    \n",
    "    def reconstructMatrices(self, vector):\n",
    "        \"\"\"\n",
    "        Dado un vector, rearma matrices del tamaño de las matrices de pesos.\n",
    "        \"\"\"\n",
    "        M0 = vector[0:self.Theta_0.size].reshape(self.Theta_0.shape)\n",
    "        M1 = vector[self.Theta_0.size:].reshape(self.Theta_1.shape)\n",
    "        return M0, M1\n",
    "        \n",
    "    def approxGradient(self, X, Y):\n",
    "        \"\"\"\n",
    "        Aproxima el valor del gradiente alrededor de los pesos actuales,\n",
    "        perturbando cada valor, uno por uno.\n",
    "        \"\"\"\n",
    "        vector = self.vectorWeights().copy()\n",
    "        approx = np.zeros(vector.shape)\n",
    "        perturb = np.zeros(vector.shape)\n",
    "        epsilon = 0.0001\n",
    "        \n",
    "        for i in range(len(vector)):\n",
    "            perturb[i] = epsilon\n",
    "            loss1 = self.calcError(X, Y, vector - perturb)\n",
    "            loss2 = self.calcError(X, Y, vector + perturb)\n",
    "            perturb[i] = 0\n",
    "            approx[i] = (loss2 - loss1) / (2 * epsilon)\n",
    "        return self.reconstructMatrices(approx)\n",
    "        \n",
    "    def gradientDescent(self, X, Y, alpha, ciclos=10, checkGradient = False):\n",
    "        \"\"\" Evalúa y ajusta los pesos de la red,\n",
    "        de acuerdo a los datos en X y los resultados\n",
    "        esperados, en Y.\n",
    "        \"\"\"\n",
    "        errores = np.zeros(ciclos)\n",
    "        for i in tqdm(range(ciclos)):\n",
    "            self.backPropagate(X, Y)\n",
    "            Grad_1 = self.Grad_1\n",
    "            Grad_0 = self.Grad_0\n",
    "            if checkGradient:\n",
    "                ApproxT0, ApproxT1 = self.approxGradient(X, Y)\n",
    "                print(\"Grad 0 = \", Grad_0, \"\\nApprox = \", ApproxT0, \"\\nDiff = \", Grad_0 - ApproxT0,\n",
    "                     \"\\nGrad 1 = \", Grad_1, \"\\nApprox = \", ApproxT1, \"\\nDiff = \", Grad_1 - ApproxT1)\n",
    "            self.Theta_1 -= alpha * Grad_1\n",
    "            self.Theta_0 -= alpha * Grad_0\n",
    "            errores[i] = self.error\n",
    "        if ciclos > 1:\n",
    "            plt.plot(np.arange(ciclos), errores)\n",
    "        \n",
    "    def printOutput(self):\n",
    "        print(self.A2.T)"
   ]
  },
  {
   "cell_type": "markdown",
   "metadata": {},
   "source": [
    "## Cargando conjunto de entrenamiento"
   ]
  },
  {
   "cell_type": "code",
   "execution_count": 10,
   "metadata": {
    "colab": {},
    "colab_type": "code",
    "id": "oMi2DiEd0Vgt",
    "outputId": "f8f750fe-7a5d-45a4-b1df-bf754a8bf0b8"
   },
   "outputs": [
    {
     "name": "stderr",
     "output_type": "stream",
     "text": [
      "100%|██████████| 1000/1000 [00:00<00:00, 36082.83it/s]\n"
     ]
    }
   ],
   "source": [
    "#xor.printOutput()\n",
    "X,Y=[],[]\n",
    "fh = open('poker-hand-testing.data')\n",
    "for i in tqdm(range(1000)):\n",
    "    row = list(map(int,fh.readline().strip().split(\",\")))\n",
    "    X.append(row[:-1])\n",
    "    Y.append(row[-1:])\n",
    "    \n",
    "X = np.array(X)\n",
    "Y = np.array(Y)\n",
    "fh.close()\n",
    "\n",
    "poker = POKER(0.3) #se crea con lambda para la regularización\n",
    "poker.feedForward(X)"
   ]
  },
  {
   "cell_type": "code",
   "execution_count": 11,
   "metadata": {
    "colab": {},
    "colab_type": "code",
    "id": "ZN4sIGPu0Vgy",
    "outputId": "2bd6fe24-71fb-4d5b-ea0b-f471a8d27795"
   },
   "outputs": [],
   "source": [
    "#print(poker.vectorWeights())\n",
    "T0, T1 = poker.reconstructMatrices(poker.vectorWeights())\n",
    "#print(T0,\"\\n\\n\\n\", T1)"
   ]
  },
  {
   "cell_type": "code",
   "execution_count": 12,
   "metadata": {
    "colab": {},
    "colab_type": "code",
    "id": "eqec90ew0Vg2",
    "outputId": "e1fa47c0-7dd0-4749-81e0-c714089ba111"
   },
   "outputs": [
    {
     "name": "stderr",
     "output_type": "stream",
     "text": [
      "100%|██████████| 1/1 [00:00<00:00, 51.90it/s]\n"
     ]
    }
   ],
   "source": [
    "poker.gradientDescent(X, Y, 0.3, 1, checkGradient = False)"
   ]
  },
  {
   "cell_type": "code",
   "execution_count": 13,
   "metadata": {
    "colab": {},
    "colab_type": "code",
    "id": "OWp2m4940Vg5",
    "outputId": "f4a65530-ae53-4a2e-bc6a-dccdbeb46a69"
   },
   "outputs": [
    {
     "data": {
      "application/vnd.jupyter.widget-view+json": {
       "model_id": "ca0295ff1beb421bb3f73099466b03cc",
       "version_major": 2,
       "version_minor": 0
      },
      "text/plain": [
       "interactive(children=(IntSlider(value=1025, description='ciclos', max=2000, min=50), Button(description='Run I…"
      ]
     },
     "metadata": {},
     "output_type": "display_data"
    }
   ],
   "source": [
    "@interact_manual(ciclos = (50, 2000))\n",
    "def trainXOR(ciclos):\n",
    "    poker.gradientDescent(X, Y, 0.3, ciclos)"
   ]
  },
  {
   "cell_type": "code",
   "execution_count": 14,
   "metadata": {
    "colab": {},
    "colab_type": "code",
    "id": "CtqYXrTY0Vg8",
    "outputId": "34cd6786-5227-4b1a-ccff-5376540b1f10"
   },
   "outputs": [
    {
     "name": "stdout",
     "output_type": "stream",
     "text": [
      "[[0.13395657 0.09183451 0.26528172 ... 0.0885414  0.06988882 0.04984132]\n",
      " [0.34920979 0.06049258 0.17988586 ... 0.09702005 0.02993837 0.06355415]\n",
      " [0.1586271  0.10089314 0.22769679 ... 0.10305498 0.05692578 0.05172921]\n",
      " ...\n",
      " [0.18219795 0.04525798 0.28176467 ... 0.09338815 0.06263516 0.05020861]\n",
      " [0.15077101 0.0421143  0.29791893 ... 0.09845105 0.07277103 0.04817423]\n",
      " [0.14216999 0.10258269 0.24050582 ... 0.08755199 0.06015466 0.04562187]]\n",
      "Theta_0 =  [[-0.27606641  0.52361344  0.00996022  0.34993982  0.0511285   0.68247044\n",
      "  -0.32604638 -0.72936672  0.18922625 -0.36992982 -0.81487628]\n",
      " [ 0.95707683 -0.48569042  0.1072291   0.34081591  0.83692054  0.46624498\n",
      "   0.09353867  0.85520724 -0.33464041 -0.60576417  0.11436917]\n",
      " [-0.53492035 -0.69830158  0.9270135   0.16924342  0.16764957 -0.46757434\n",
      "   0.03453198 -0.57188596 -0.14260037 -0.18023277 -0.77969072]\n",
      " [ 0.05654904  0.48598337  0.21210816  0.31430029 -0.03719136  0.28222884\n",
      "  -1.01797232 -0.25087075  0.69550165 -0.97395519  0.78050388]\n",
      " [-0.70226579 -0.23002679  0.46201988 -0.96918603  0.63628194 -0.92482429\n",
      "   0.59014635  0.32463467  0.00964292 -0.24108126 -0.19686713]\n",
      " [ 0.73370001  0.32020817 -0.64703975  0.14144335 -0.11259267 -0.84378486\n",
      "   0.73379315 -0.21526915 -0.44499761  0.71727874 -0.26011852]] \n",
      "Theta_1 [[ 5.41580790e-01  2.36721188e-01  7.78978458e-01  7.81964604e-01\n",
      "  -7.33047874e-01  3.31415351e-01 -9.10752853e-01]\n",
      " [ 3.69997205e-01  8.66067833e-01  2.34139444e-01  3.83753656e-01\n",
      "   7.56881102e-01 -8.31975970e-01 -5.08456322e-01]\n",
      " [ 5.94300843e-01 -7.88871315e-02  1.72900822e-01 -3.63613219e-01\n",
      "  -3.66095760e-02  8.60609958e-01 -2.46187114e-01]\n",
      " [ 5.60233049e-01  5.80650640e-01  2.17756304e-01  4.80439118e-01\n",
      "  -5.55569719e-01 -8.86735255e-01  9.51611337e-01]\n",
      " [ 1.55506257e-01  1.67675708e-02 -2.29815169e-02 -1.99385936e-01\n",
      "  -9.01490595e-01 -7.91639198e-01  6.81475539e-01]\n",
      " [-3.31617644e-01 -4.08664369e-01 -5.78815449e-01  3.86706545e-04\n",
      "   7.45148979e-01 -7.55212448e-01 -3.84844430e-01]\n",
      " [-4.35104044e-01  8.39358420e-01  6.98169189e-01  1.56388920e-01\n",
      "   6.98222365e-01  5.37905130e-01 -9.43653881e-01]\n",
      " [-4.49826042e-01 -9.80747521e-02  8.61991707e-01  7.04309723e-01\n",
      "   3.95497640e-01 -3.27347559e-01  1.63197876e-01]\n",
      " [-9.48741366e-01 -2.78576497e-01  4.27823488e-01 -6.11598547e-01\n",
      "   3.44450197e-01  4.26286282e-01  3.50458249e-02]\n",
      " [-2.61119767e-01 -4.65552748e-01  8.69514971e-01  1.78958815e-01\n",
      "  -3.66956249e-01 -3.17445529e-01 -7.31273426e-01]]\n",
      "1340.4029060882945\n"
     ]
    }
   ],
   "source": [
    "poker.feedForward(X)\n",
    "poker.printOutput()\n",
    "print(\"Theta_0 = \", poker.Theta_0, \"\\nTheta_1\", poker.Theta_1)\n",
    "print(poker.error)"
   ]
  },
  {
   "cell_type": "code",
   "execution_count": null,
   "metadata": {
    "colab": {},
    "colab_type": "code",
    "id": "gRvwg1Yp0Vg-",
    "outputId": "d9a7d80a-a9c6-4238-91e1-61d86da3019b",
    "scrolled": true
   },
   "outputs": [],
   "source": [
    "from IPython.core.display import HTML\n",
    "def css_styling():\n",
    "    styles = open(\"../P1-HodgkinHuxley/styles/custom.css\", \"r\").read() #or edit path to custom.css\n",
    "    return HTML(styles)\n",
    "css_styling()"
   ]
  }
 ],
 "metadata": {
  "colab": {
   "name": "NN_XOR.ipynb",
   "provenance": [],
   "version": "0.3.2"
  },
  "kernelspec": {
   "display_name": "Python 3",
   "language": "python",
   "name": "python3"
  },
  "language_info": {
   "codemirror_mode": {
    "name": "ipython",
    "version": 3
   },
   "file_extension": ".py",
   "mimetype": "text/x-python",
   "name": "python",
   "nbconvert_exporter": "python",
   "pygments_lexer": "ipython3",
   "version": "3.7.4"
  }
 },
 "nbformat": 4,
 "nbformat_minor": 1
}
