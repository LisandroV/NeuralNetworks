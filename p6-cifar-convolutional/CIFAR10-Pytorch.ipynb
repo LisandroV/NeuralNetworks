{
 "cells": [
  {
   "cell_type": "markdown",
   "metadata": {},
   "source": [
    "# Practica: Redes convolucionales"
   ]
  },
  {
   "cell_type": "code",
   "execution_count": 1,
   "metadata": {},
   "outputs": [],
   "source": [
    "import matplotlib.pyplot as plt\n",
    "import numpy as np\n",
    "import math\n",
    "import matplotlib\n",
    "\n",
    "#%connect_info\n",
    "import torch\n",
    "import torchvision\n",
    "import torch.nn as nn\n",
    "import torch.optim as optim\n",
    "from torch.autograd import Variable\n",
    "import torchvision.transforms as transforms\n",
    "\n",
    "from torchvision.datasets import CIFAR10\n",
    "from torchvision.datasets import MNIST\n",
    "\n",
    "import torch.nn.functional as FUN\n",
    "\n",
    "#Widgets\n",
    "from ipywidgets import interact, interact_manual, interactive, fixed\n",
    "import ipywidgets as widgets\n",
    "from IPython.display import display"
   ]
  },
  {
   "cell_type": "markdown",
   "metadata": {},
   "source": [
    "# Cifar 10 y redes convolucionales"
   ]
  },
  {
   "cell_type": "markdown",
   "metadata": {},
   "source": [
    "La arquitectura que deberas implementar debe tener las siguientes caracteristicas:\n",
    "\n",
    "    - Una capa convolucional de entrada con un filtro de 5x5x3 y 64 filtros de salida\n",
    "    - Una capa de MaxPooling \n",
    "    - Otra capa convolucional con un filtro de 5x5x64 y 64 filtros de salida\n",
    "    - Una capa de MaxPooling\n",
    "    - Una capa completamente conectada con 384 neuronas,cuya activacion es ReLu\n",
    "    - Una capa completamente conectada con 192 neuronas,cuya activacion es ReLu\n",
    "    -Finalmente,una capa de salida con 10 neuronas\n",
    "Es importante señalar que entre cada capa convolucional y de pooling existe una activacion **ReLu**\n",
    "\n",
    "Graficamente, algo similar a lo mostrado en la siguiente figura:\n",
    "<img src=\"AlexNet-cifar10.png\" alt=\"Arquitectura de la red\" title=\"Red convolucional\" />"
   ]
  },
  {
   "cell_type": "markdown",
   "metadata": {},
   "source": [
    "# Cifar 10\n",
    "Es un conjunto de datos de imagenes que tiene 60,000 imagenes de 30x30 a color de 10 clases distintas (cada clase con 6,000 imagenes).\n",
    "Las clases de este conjunto de datos corresponden a:\n",
    "airplane, automobile, bird, cat, deer, dog, frog, horse, ship, y truck.\n",
    "\n",
    "Para clasificar este conjunto de datos usaremos una red convolucional anteriormente descrita en Pytorch."
   ]
  },
  {
   "cell_type": "code",
   "execution_count": 2,
   "metadata": {},
   "outputs": [
    {
     "name": "stdout",
     "output_type": "stream",
     "text": [
      "Files already downloaded and verified\n",
      "Files already downloaded and verified\n"
     ]
    }
   ],
   "source": [
    "#Cargamos los datos de este conjunto en las variables correspondientes al igual que el caso de MNIST\n",
    "trainset = torchvision.datasets.CIFAR10(root='./data', train=True,\n",
    "                                        download=True, transform=transforms.ToTensor())\n",
    "testset = torchvision.datasets.CIFAR10(root='./data', train=False,\n",
    "                                       download=True, transform=transforms.ToTensor())\n",
    "\n",
    "trainloader = torch.utils.data.DataLoader(trainset, batch_size=4,\n",
    "                                          shuffle=True, num_workers=2)\n",
    "\n",
    "testloader = torch.utils.data.DataLoader(testset, batch_size=4,\n",
    "                                         shuffle=False, num_workers=2)\n",
    "\n",
    "classes = ('plane', 'car', 'bird', 'cat','deer',\n",
    "           'dog', 'frog', 'horse', 'ship', 'truck')"
   ]
  },
  {
   "cell_type": "code",
   "execution_count": 3,
   "metadata": {},
   "outputs": [
    {
     "data": {
      "image/png": "[encoded data removed]",
      "text/plain": [
       "<Figure size 432x288 with 1 Axes>"
      ]
     },
     "metadata": {
      "needs_background": "light"
     },
     "output_type": "display_data"
    },
    {
     "name": "stdout",
     "output_type": "stream",
     "text": [
      "horse horse   cat   car\n"
     ]
    }
   ],
   "source": [
    "#Mostrando imagen\n",
    "def imshow(img):\n",
    "    #img = img / 2 + 0.5     # unnormalize\n",
    "    npimg = img.numpy()\n",
    "    plt.imshow(np.transpose(npimg, (1, 2, 0)))\n",
    "    plt.show()\n",
    "\n",
    "\n",
    "# get some random training images\n",
    "dataiter = iter(trainloader)\n",
    "images, labels = dataiter.next()\n",
    "\n",
    "# show images\n",
    "imshow(torchvision.utils.make_grid(images))\n",
    "# print labels\n",
    "print(' '.join('%5s' % classes[labels[j]] for j in range(4)))"
   ]
  },
  {
   "cell_type": "code",
   "execution_count": 4,
   "metadata": {},
   "outputs": [],
   "source": [
    "#airplane, automobile, bird, cat, deer, dog, frog, horse, ship, and truck.\n",
    "class CIFAR_NET(nn.Module):\n",
    "    def __init__(self):\n",
    "        '''Constructor de la red neuronal\n",
    "        En esta funcion defines las operaciones que seran realizadas y \n",
    "        las agregas a self para tenerlas disponibles despues'''\n",
    "        super(CIFAR_NET, self).__init__()\n",
    "        \n",
    "        #Toma en cuenta el constructor de las capas convolucionales\n",
    "        #torch.nn.Conv2d(in_channels, out_channels, kernel_size, stride=1,padding=0, dilation=1, groups=1, bias=True)\n",
    "        #Una capa de neuronas  se declara con:\n",
    "        #nn.Linear(in_features= x ,out_features=y)\n",
    "        \n",
    "        self.l1_conv = nn.Conv2d(3, 64, 5)\n",
    "        self.l2_pool = nn.MaxPool2d(2)\n",
    "        self.l3_conv = nn.Conv2d(64, 64, 5)\n",
    "        self.l4_pool = nn.MaxPool2d(2)\n",
    "        self.l5_linear = nn.Linear(64 * 5 * 5, 384)\n",
    "        self.l6_linear = nn.Linear(384, 192)\n",
    "        self.l7_linear = nn.Linear(192, 10)\n",
    "\n",
    "\n",
    "    def forward(self, x):\n",
    "        '''Ejecuta forward sobre los datos de entrada x\n",
    "        En esta funcion debes definir de manera consecutiva el orden\n",
    "        de las operaciones capa por capa que definiste en el constructor y\n",
    "        devolver el resultado'''\n",
    "        x = FUN.relu(self.l1_conv(x))\n",
    "        x = self.l2_pool(x)\n",
    "        x = FUN.relu(self.l3_conv(x))\n",
    "        x = self.l4_pool(x)\n",
    "        x = x.view(-1, 64 * 5 * 5)\n",
    "        x = FUN.relu(self.l5_linear(x))\n",
    "        x = FUN.relu(self.l6_linear(x))\n",
    "        x = self.l7_linear(x)\n",
    "        return x\n",
    "    \n",
    "    def train(self,epochs,data_loader,criterion,optimizer,cuda=False):\n",
    "        '''Entrena la red net, por un numero de epocas \"epochs\" con el data_loader\n",
    "        proporcionado,usando como funcion de perdida la definida en \"criterion\" y el\n",
    "        optimizador pasado como parametro'''\n",
    "        #Recuerda incluir una manera de monitorizar el desempeño actual de la red\n",
    "        #Es util mostrar el valor actual de perdida y de precision\n",
    "        \n",
    "        for epoch in range(epochs):  # loop over the dataset multiple times\n",
    "\n",
    "            running_loss = 0.0\n",
    "            for i, data in enumerate(trainloader, 0):\n",
    "                # get the inputs; data is a list of [inputs, labels]\n",
    "                inputs, labels = data\n",
    "\n",
    "                # zero the parameter gradients\n",
    "                optimizer.zero_grad()\n",
    "\n",
    "                # forward + backward + optimize\n",
    "                outputs = self.forward(inputs)\n",
    "                loss = criterion(outputs, labels)\n",
    "                loss.backward()\n",
    "                optimizer.step()\n",
    "\n",
    "                # print statistics\n",
    "                running_loss += loss.item()\n",
    "                if i % 2000 == 1999:    # print every 2000 mini-batches\n",
    "                    print('[%d, %5d] loss: %.3f' %\n",
    "                          (epoch + 1, i + 1, running_loss / 2000))\n",
    "                    running_loss = 0.0\n",
    "\n",
    "        print('Finished Training')"
   ]
  },
  {
   "cell_type": "code",
   "execution_count": 5,
   "metadata": {},
   "outputs": [
    {
     "name": "stdout",
     "output_type": "stream",
     "text": [
      "[1,  2000] loss: 2.197\n",
      "[1,  4000] loss: 1.917\n",
      "[1,  6000] loss: 1.715\n",
      "[1,  8000] loss: 1.598\n",
      "[1, 10000] loss: 1.524\n",
      "[1, 12000] loss: 1.454\n",
      "[2,  2000] loss: 1.372\n",
      "[2,  4000] loss: 1.313\n",
      "[2,  6000] loss: 1.293\n",
      "[2,  8000] loss: 1.250\n",
      "[2, 10000] loss: 1.222\n",
      "[2, 12000] loss: 1.188\n",
      "[3,  2000] loss: 1.104\n",
      "[3,  4000] loss: 1.098\n",
      "[3,  6000] loss: 1.083\n",
      "[3,  8000] loss: 1.068\n",
      "[3, 10000] loss: 1.053\n",
      "[3, 12000] loss: 1.030\n",
      "[4,  2000] loss: 0.935\n",
      "[4,  4000] loss: 0.904\n",
      "[4,  6000] loss: 0.925\n",
      "[4,  8000] loss: 0.901\n",
      "[4, 10000] loss: 0.904\n",
      "[4, 12000] loss: 0.929\n",
      "[5,  2000] loss: 0.744\n",
      "[5,  4000] loss: 0.776\n",
      "[5,  6000] loss: 0.788\n",
      "[5,  8000] loss: 0.804\n",
      "[5, 10000] loss: 0.790\n",
      "[5, 12000] loss: 0.769\n",
      "[6,  2000] loss: 0.621\n",
      "[6,  4000] loss: 0.640\n",
      "[6,  6000] loss: 0.649\n",
      "[6,  8000] loss: 0.686\n",
      "[6, 10000] loss: 0.688\n",
      "[6, 12000] loss: 0.695\n",
      "[7,  2000] loss: 0.505\n",
      "[7,  4000] loss: 0.514\n",
      "[7,  6000] loss: 0.554\n",
      "[7,  8000] loss: 0.557\n",
      "[7, 10000] loss: 0.597\n",
      "[7, 12000] loss: 0.575\n",
      "[8,  2000] loss: 0.398\n",
      "[8,  4000] loss: 0.415\n",
      "[8,  6000] loss: 0.454\n",
      "[8,  8000] loss: 0.466\n",
      "[8, 10000] loss: 0.486\n",
      "[8, 12000] loss: 0.490\n",
      "[9,  2000] loss: 0.305\n",
      "[9,  4000] loss: 0.347\n",
      "[9,  6000] loss: 0.346\n",
      "[9,  8000] loss: 0.382\n",
      "[9, 10000] loss: 0.412\n",
      "[9, 12000] loss: 0.418\n",
      "[10,  2000] loss: 0.255\n",
      "[10,  4000] loss: 0.263\n",
      "[10,  6000] loss: 0.304\n",
      "[10,  8000] loss: 0.318\n",
      "[10, 10000] loss: 0.344\n",
      "[10, 12000] loss: 0.351\n",
      "[11,  2000] loss: 0.199\n",
      "[11,  4000] loss: 0.238\n",
      "[11,  6000] loss: 0.275\n",
      "[11,  8000] loss: 0.281\n",
      "[11, 10000] loss: 0.287\n",
      "[11, 12000] loss: 0.315\n",
      "Finished Training\n"
     ]
    }
   ],
   "source": [
    "RedCIFAR=CIFAR_NET()\n",
    "#RedCIFAR.cuda() #puedes descomentar esta linea si tienes GPU disponible\n",
    "criterio = nn.CrossEntropyLoss()\n",
    "optimizer = optim.SGD(RedCIFAR.parameters(), lr=0.001, momentum=0.9)\n",
    "\n",
    "#Entrenamos la red durante 50 pasos(o los que consideres necesarios),con entropia cruzada y el optimizador \n",
    "RedCIFAR.train(11,trainloader,criterio,optimizer,cuda=False) #puedes agregar cuda=True si tienes GPU disponible"
   ]
  },
  {
   "cell_type": "markdown",
   "metadata": {},
   "source": [
    "# Prueba del Modelo"
   ]
  },
  {
   "cell_type": "code",
   "execution_count": 6,
   "metadata": {},
   "outputs": [
    {
     "data": {
      "application/vnd.jupyter.widget-view+json": {
       "model_id": "573391f005de4003b642aa72d8dcd596",
       "version_major": 2,
       "version_minor": 0
      },
      "text/plain": [
       "interactive(children=(IntSlider(value=6249, description='indice', max=12499), Output()), _dom_classes=('widget…"
      ]
     },
     "metadata": {},
     "output_type": "display_data"
    }
   ],
   "source": [
    "@interact(\n",
    "    indice = (0, math.floor(len(trainset)/4) - 1)\n",
    ")\n",
    "def muestraImagen(indice):\n",
    "    dataiter = iter(trainloader)\n",
    "    for i in range(indice):\n",
    "        images, labels = dataiter.next()\n",
    "\n",
    "    # Muestra Imágenes\n",
    "    imshow(torchvision.utils.make_grid(images))\n",
    "    print('Valores Esperados', ' '.join('%5s' % classes[labels[j]] for j in range(4)))\n",
    "\n",
    "    outputs = RedCIFAR.forward(images)\n",
    "    _, predicted = torch.max(outputs, 1)\n",
    "    print('Valores Obtenidos: ', ' '.join('%5s' % classes[predicted[j]] for j in range(4)))"
   ]
  },
  {
   "cell_type": "markdown",
   "metadata": {},
   "source": [
    "## Ejercicios:\n",
    "    -- Crea las funciones necesarias para poder introducir datos concretos a la red (una vez ya entrenada) y obtener el resultado que esta devuelve.\n",
    "    -- Con la red neuronal entrenada obten la matriz de confusion de ambos conjuntos (entrenamiento y prueba) con las 10 clases posibles y muestrala.\n",
    "    \n",
    "## Extra:\n",
    "    -- Despues de cada MaxPool normaliza las salidas y contrasta el rendimiento de la red.\n",
    "    -- Graficar las imagenes del conjunto de datos bajo demanda.\n",
    "    -- Muestra los filtros aprendidos."
   ]
  },
  {
   "cell_type": "markdown",
   "metadata": {},
   "source": [
    "# Precisíon del Modelo:"
   ]
  },
  {
   "cell_type": "code",
   "execution_count": 7,
   "metadata": {},
   "outputs": [],
   "source": [
    "#Funciones auxiliares\n",
    "def matrizDeConfusion():\n",
    "    pass\n",
    "\n",
    "def contarCorrectas(net,batch,labels,confusionMatriz,func=None):\n",
    "    '''Dado un batch y sus etiquetas, cuenta el numero de respuestas\n",
    "    correctas de una red, el parametro func aplica una modificacion al \n",
    "    tensor que contiene los datos'''\n",
    "    \n",
    "    if(func!=None):\n",
    "        batch=func(batch)\n",
    "        salidas=net(batch)\n",
    "    else:\n",
    "        salidas=net(batch)\n",
    "    respuestas=salidas.max(dim=1)[1]\n",
    "    cantidadCorrectas=(respuestas==labels).sum()\n",
    "    for i in range(len(labels)):\n",
    "        confusionMatriz[labels[i].item()][respuestas[i].item()] += 1\n",
    "    return cantidadCorrectas\n",
    "    \n",
    "#regresa la prescicion y la matriz de confusión, en ese orden\n",
    "def calcularPrecisionGlobal(net,data_loader,batch_size,func=None,cuda=False):\n",
    "    '''Calcula la precision de una red dado un data_loader,\n",
    "    recive una funcion que transforma los datos en caso de ser necesario'''\n",
    "    correctas=0\n",
    "    confusionMatriz = np.array([[0 for i in classes]] * (len(classes))) #inicializacion de matriz de confusion con 0's\n",
    "    for (images,labels) in data_loader:\n",
    "        if(cuda and torch.cuda.is_available()):\n",
    "            images=images.cuda()\n",
    "            labels=labels.cuda()\n",
    "        correctas+=contarCorrectas(net,images,labels,confusionMatriz,func)\n",
    "    correctas=correctas.data.tolist()\n",
    "    return (100*correctas)/(len(data_loader)*batch_size), confusionMatriz"
   ]
  },
  {
   "cell_type": "code",
   "execution_count": 8,
   "metadata": {},
   "outputs": [],
   "source": [
    "prec_train, train_confusion = calcularPrecisionGlobal(RedCIFAR,trainloader,4)\n",
    "prec_val  , val_confusion  = calcularPrecisionGlobal(RedCIFAR,testloader,4)"
   ]
  },
  {
   "cell_type": "code",
   "execution_count": 9,
   "metadata": {},
   "outputs": [],
   "source": [
    "def heatmap(data, row_labels, col_labels, ax=None,\n",
    "            cbar_kw={}, cbarlabel=\"\", **kwargs):\n",
    "    \"\"\"\n",
    "    Create a heatmap from a numpy array and two lists of labels.\n",
    "\n",
    "    Parameters\n",
    "    ----------\n",
    "    data\n",
    "        A 2D numpy array of shape (N, M).\n",
    "    row_labels\n",
    "        A list or array of length N with the labels for the rows.\n",
    "    col_labels\n",
    "        A list or array of length M with the labels for the columns.\n",
    "    ax\n",
    "        A `matplotlib.axes.Axes` instance to which the heatmap is plotted.  If\n",
    "        not provided, use current axes or create a new one.  Optional.\n",
    "    cbar_kw\n",
    "        A dictionary with arguments to `matplotlib.Figure.colorbar`.  Optional.\n",
    "    cbarlabel\n",
    "        The label for the colorbar.  Optional.\n",
    "    **kwargs\n",
    "        All other arguments are forwarded to `imshow`.\n",
    "    \"\"\"\n",
    "\n",
    "    if not ax:\n",
    "        ax = plt.gca()\n",
    "\n",
    "    # Plot the heatmap\n",
    "    im = ax.imshow(data, **kwargs)\n",
    "\n",
    "    # Create colorbar\n",
    "    cbar = ax.figure.colorbar(im, ax=ax, **cbar_kw)\n",
    "    cbar.ax.set_ylabel(cbarlabel, rotation=-90, va=\"bottom\")\n",
    "\n",
    "    # We want to show all ticks...\n",
    "    ax.set_xticks(np.arange(data.shape[1]))\n",
    "    ax.set_yticks(np.arange(data.shape[0]))\n",
    "    # ... and label them with the respective list entries.\n",
    "    ax.set_xticklabels(col_labels)\n",
    "    ax.set_yticklabels(row_labels)\n",
    "\n",
    "    # Let the horizontal axes labeling appear on top.\n",
    "    ax.tick_params(top=True, bottom=False,\n",
    "                   labeltop=True, labelbottom=False)\n",
    "\n",
    "    # Rotate the tick labels and set their alignment.\n",
    "    plt.setp(ax.get_xticklabels(), rotation=-30, ha=\"right\",\n",
    "             rotation_mode=\"anchor\")\n",
    "\n",
    "    # Turn spines off and create white grid.\n",
    "    for edge, spine in ax.spines.items():\n",
    "        spine.set_visible(False)\n",
    "\n",
    "    ax.set_xticks(np.arange(data.shape[1]+1)-0.5, minor=True)\n",
    "    ax.set_yticks(np.arange(data.shape[0]+1)-0.5, minor=True)\n",
    "    ax.grid(which=\"minor\", color=\"w\", linestyle='-', linewidth=3)\n",
    "    ax.tick_params(which=\"minor\", bottom=False, left=False)\n",
    "\n",
    "    return im, cbar\n",
    "\n",
    "\n",
    "def annotate_heatmap(im, data=None, valfmt=\"{x:.2f}\",\n",
    "                     textcolors=[\"black\", \"white\"],\n",
    "                     threshold=None, **textkw):\n",
    "    \"\"\"\n",
    "    A function to annotate a heatmap.\n",
    "\n",
    "    Parameters\n",
    "    ----------\n",
    "    im\n",
    "        The AxesImage to be labeled.\n",
    "    data\n",
    "        Data used to annotate.  If None, the image's data is used.  Optional.\n",
    "    valfmt\n",
    "        The format of the annotations inside the heatmap.  This should either\n",
    "        use the string format method, e.g. \"$ {x:.2f}\", or be a\n",
    "        `matplotlib.ticker.Formatter`.  Optional.\n",
    "    textcolors\n",
    "        A list or array of two color specifications.  The first is used for\n",
    "        values below a threshold, the second for those above.  Optional.\n",
    "    threshold\n",
    "        Value in data units according to which the colors from textcolors are\n",
    "        applied.  If None (the default) uses the middle of the colormap as\n",
    "        separation.  Optional.\n",
    "    **kwargs\n",
    "        All other arguments are forwarded to each call to `text` used to create\n",
    "        the text labels.\n",
    "    \"\"\"\n",
    "\n",
    "    if not isinstance(data, (list, np.ndarray)):\n",
    "        data = im.get_array()\n",
    "\n",
    "    # Normalize the threshold to the images color range.\n",
    "    if threshold is not None:\n",
    "        threshold = im.norm(threshold)\n",
    "    else:\n",
    "        threshold = im.norm(data.max())/2.\n",
    "\n",
    "    # Set default alignment to center, but allow it to be\n",
    "    # overwritten by textkw.\n",
    "    kw = dict(horizontalalignment=\"center\",\n",
    "              verticalalignment=\"center\")\n",
    "    kw.update(textkw)\n",
    "\n",
    "    # Get the formatter in case a string is supplied\n",
    "    if isinstance(valfmt, str):\n",
    "        valfmt = matplotlib.ticker.StrMethodFormatter(valfmt)\n",
    "\n",
    "    # Loop over the data and create a `Text` for each \"pixel\".\n",
    "    # Change the text's color depending on the data.\n",
    "    texts = []\n",
    "    for i in range(data.shape[0]):\n",
    "        for j in range(data.shape[1]):\n",
    "            kw.update(color=textcolors[int(im.norm(data[i, j]) > threshold)])\n",
    "            text = im.axes.text(j, i, valfmt(data[i, j], None), **kw)\n",
    "            texts.append(text)\n",
    "\n",
    "    return texts"
   ]
  },
  {
   "cell_type": "code",
   "execution_count": 10,
   "metadata": {},
   "outputs": [
    {
     "name": "stdout",
     "output_type": "stream",
     "text": [
      "Precision en conjunto de entrenamiento: 94.7560%\n",
      "Precision en conjunto de validacion: 69.1700%\n"
     ]
    },
    {
     "data": {
      "image/png": "[encoded data removed]",
      "text/plain": [
       "<Figure size 1224x288 with 4 Axes>"
      ]
     },
     "metadata": {
      "needs_background": "light"
     },
     "output_type": "display_data"
    }
   ],
   "source": [
    "print(\"Precision en conjunto de entrenamiento: %.4f%%\"%(prec_train))\n",
    "print(\"Precision en conjunto de validacion: %.4f%%\"%(prec_val))\n",
    "\n",
    "fig, (ax, ax2) = plt.subplots(1, 2, figsize=(17, 4))\n",
    "\n",
    "ax.set_title('Conjunto de Entrenamiento')\n",
    "im, cbar = heatmap(train_confusion, classes, classes, ax=ax,cmap=\"OrRd\", cbarlabel=\"Número de elementos clasificados\")\n",
    "texts = annotate_heatmap(im, valfmt=\"{x:}\",size=8)\n",
    "\n",
    "ax2.set_title('Conjunto de Validación')\n",
    "im, cbar = heatmap(val_confusion, classes, classes, ax=ax2,cmap=\"GnBu\", cbarlabel=\"Número de elementos clasificados\")\n",
    "texts = annotate_heatmap(im, valfmt=\"{x:}\",size=8)\n",
    "\n",
    "fig.tight_layout()\n",
    "plt.show()"
   ]
  },
  {
   "cell_type": "code",
   "execution_count": null,
   "metadata": {},
   "outputs": [],
   "source": []
  }
 ],
 "metadata": {
  "kernelspec": {
   "display_name": "Python 3",
   "language": "python",
   "name": "python3"
  },
  "language_info": {
   "codemirror_mode": {
    "name": "ipython",
    "version": 3
   },
   "file_extension": ".py",
   "mimetype": "text/x-python",
   "name": "python",
   "nbconvert_exporter": "python",
   "pygments_lexer": "ipython3",
   "version": "3.7.4"
  }
 },
 "nbformat": 4,
 "nbformat_minor": 2
}
