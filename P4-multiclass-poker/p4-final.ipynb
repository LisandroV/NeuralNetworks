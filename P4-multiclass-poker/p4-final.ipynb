{
 "cells": [
  {
   "cell_type": "markdown",
   "metadata": {
    "colab_type": "text",
    "id": "X6SfMLdA0VgG"
   },
   "source": [
    "# Poker Dataset con clasificación multiclase"
   ]
  },
  {
   "cell_type": "code",
   "execution_count": 1,
   "metadata": {
    "colab": {},
    "colab_type": "code",
    "id": "YvpA3yFz0VgI"
   },
   "outputs": [],
   "source": [
    "%matplotlib inline\n",
    "\n",
    "import matplotlib.pyplot as plt\n",
    "import matplotlib.cm as cm\n",
    "import json, matplotlib\n",
    "#s = json.load( open(\"styles/bmh_matplotlibrc.json\") )\n",
    "#matplotlib.rcParams.update(s)\n",
    "from IPython.core.pylabtools import figsize\n",
    "from tqdm import tqdm\n",
    "figsize(11, 5)\n",
    "colores = [\"#348ABD\", \"#A60628\",\"#06A628\"]"
   ]
  },
  {
   "cell_type": "code",
   "execution_count": 2,
   "metadata": {
    "colab": {},
    "colab_type": "code",
    "id": "iY0sO9LR0VgP"
   },
   "outputs": [],
   "source": [
    "from ipywidgets import interact, interactive, fixed, interact_manual\n",
    "import ipywidgets as widgets\n",
    "from IPython.display import display"
   ]
  },
  {
   "cell_type": "code",
   "execution_count": 3,
   "metadata": {
    "colab": {},
    "colab_type": "code",
    "id": "tQ2EKMoi0VgT"
   },
   "outputs": [],
   "source": [
    "import numpy as np"
   ]
  },
  {
   "cell_type": "markdown",
   "metadata": {
    "colab_type": "text",
    "id": "8GIo4Yt-0VgX"
   },
   "source": [
    "## Función de activación\n",
    "### Logística"
   ]
  },
  {
   "cell_type": "code",
   "execution_count": 4,
   "metadata": {
    "colab": {},
    "colab_type": "code",
    "id": "-oXn64F40VgZ"
   },
   "outputs": [],
   "source": [
    "# Devuelve la función logística evaluada\n",
    "# componente por componente\n",
    "def logistica(z):\n",
    "    return 1 / (1 + np.exp(-z))"
   ]
  },
  {
   "cell_type": "code",
   "execution_count": 5,
   "metadata": {
    "colab": {},
    "colab_type": "code",
    "id": "n7NLu9XQ0Vgd"
   },
   "outputs": [],
   "source": [
    "## Función que, dado un arreglo de valores z\n",
    "## calcula el valor de la derivada para cada entrada.\n",
    "\n",
    "def derivadaLogistica(z):\n",
    "    g = logistica(z)\n",
    "    return g * (1 - g)"
   ]
  },
  {
   "cell_type": "markdown",
   "metadata": {},
   "source": [
    "### Softmax"
   ]
  },
  {
   "cell_type": "code",
   "execution_count": 6,
   "metadata": {},
   "outputs": [],
   "source": [
    "#z = [1.0, 2.0, 3.0, 4.0, 1.0, 2.0, 3.0]\n",
    "def softmax(z):\n",
    "    z_exp = [np.exp(i) for i in z]\n",
    "    #print([round(i, 2) for i in z_exp])\n",
    "    #[2.72, 7.39, 20.09, 54.6, 2.72, 7.39, 20.09]\n",
    "    sum_z_exp = sum(z_exp)\n",
    "    #print(round(sum_z_exp, 2))\n",
    "    #114.98\n",
    "    soft_m = [(i / sum_z_exp) for i in z_exp]\n",
    "    #print(softmax)\n",
    "    #[0.024, 0.064, 0.175, 0.475, 0.024, 0.064, 0.175]\n",
    "    return np.array(soft_m)"
   ]
  },
  {
   "cell_type": "markdown",
   "metadata": {},
   "source": [
    "## Función de Error"
   ]
  },
  {
   "cell_type": "code",
   "execution_count": 7,
   "metadata": {},
   "outputs": [],
   "source": [
    "# input: (val_obtenido, val_esperado)\n",
    "def entropia_cruzada(hip,y):\n",
    "    return -y*np.log(hip) - (1-y)*np.log(1-hip)\n",
    "\n",
    "def entropia_multiclase(hip,y):\n",
    "    return -np.log(hip[y]) #+regularización"
   ]
  },
  {
   "cell_type": "markdown",
   "metadata": {
    "colab_type": "text",
    "id": "Hhk9wFG90Vgj"
   },
   "source": [
    "## Red neuronal\n",
    "La red implementa encadenamiento hacia adelante (para evaluar) y hacia atrás (para entrenarse)."
   ]
  },
  {
   "cell_type": "code",
   "execution_count": 8,
   "metadata": {
    "colab": {},
    "colab_type": "code",
    "id": "_T_D0r3s0Vgk"
   },
   "outputs": [],
   "source": [
    "np.random.seed(10)"
   ]
  },
  {
   "cell_type": "code",
   "execution_count": 9,
   "metadata": {
    "colab": {},
    "colab_type": "code",
    "id": "0J78Lgya0Vgo"
   },
   "outputs": [],
   "source": [
    "class POKER:\n",
    "    def __init__(self):\n",
    "        \n",
    "        neg_pos1 = np.power(-1, np.random.randint(50, size=(6, 11))) #para hacerlos negativos o positivos\n",
    "        neg_pos2 = np.power(-1, np.random.randint(50, size=(10, 7)))\n",
    "        \n",
    "        self.Theta_0 = np.multiply(np.random.random((6,11)), neg_pos1)\n",
    "        self.Theta_1 = np.multiply(np.random.random((10,7)), neg_pos2)\n",
    "    \n",
    "    def feedForward(self, X, vector = None):\n",
    "        \"\"\" Calcula las salidas, dados los datos de entrada. \"\"\"\n",
    "        if vector is None:\n",
    "            Theta_0 = self.Theta_0\n",
    "            Theta_1 = self.Theta_1\n",
    "        else:\n",
    "            Theta_0, Theta_1 = self.reconstructMatrices(vector)\n",
    "        \n",
    "        self.A0 = np.vstack((np.ones((1, X.shape[0])), X.T)) #entrada\n",
    "        \n",
    "        self.Z1 = np.dot(Theta_0, self.A0)#primera capa\n",
    "        self.A1 = np.vstack((np.ones((1, self.Z1.shape[1])), logistica(self.Z1)))\n",
    "        \n",
    "        self.Z2 = np.dot(Theta_1, self.A1) #última capa\n",
    "        self.A2 = softmax(self.Z2)\n",
    "        \n",
    "    \n",
    "        \n",
    "    def backPropagate(self, X, Y):\n",
    "        \"\"\" Calcula el error y su gradiente,\n",
    "        dados los pesos actuales de la red y los resultados\n",
    "        esperados.\n",
    "        \"\"\"\n",
    "        self.feedForward(X)\n",
    "        \n",
    "        m = X.shape[0]\n",
    "        #Delta_2 = (self.A2.T - Y)\n",
    "        A2T = np.copy(self.A2.T)\n",
    "        for i in range(len(Y)):\n",
    "            A2T[i][Y[i]] -= 1\n",
    "        Delta_2 = A2T #Delta_2 = (self.A2.T - Y)\n",
    "        \n",
    "        self.error = np.sum(entropia_multiclase(self.A2,Y.T)) / m # Suma renglones (clases) y columnas (ejemplares)\n",
    "    \n",
    "        #Delta_1 = Delta_2 * self.Theta_1[:,1:] *  derivadaLogistica(self.Z2) #paraxor\n",
    "        Delta_1 = np.multiply(Delta_2, derivadaLogistica(self.Z2.T)).dot(self.Theta_1[:,1:])\n",
    "        \n",
    "        self.Grad_1 = np.dot(Delta_2.T,self.A1.T) / m\n",
    "        \n",
    "        #Delta_0 = self.Theta_0[:,1:].T * Delta_1 * derivadaLogistica(self.Z1.T)\n",
    "        self.Grad_0 = np.dot(Delta_1.T, self.A0.T) / m\n",
    "        \n",
    "    def calcError(self, X, Y, vector):\n",
    "        \"\"\"\n",
    "        Calcula el error que se cometería utilizando los pesos en 'vector'.\n",
    "        \"\"\"\n",
    "        self.feedForward(X, vector)\n",
    "        m = X.shape[0]\n",
    "        error = np.sum(entropia_multiclase(self.A2,Y.T)) / m\n",
    "        return error\n",
    "    \n",
    "    def vectorWeights(self):\n",
    "        \"\"\"\n",
    "        Acomoda a todos los parámetros en las matrices de pesos, en un solo vector.\n",
    "        \"\"\"\n",
    "        vector = np.vstack((self.Theta_0.reshape((self.Theta_0.size, 1)),\n",
    "                          self.Theta_1.reshape((self.Theta_1.size, 1))))\n",
    "        #print(self.Theta_0, self.Theta_1, vector)\n",
    "        return vector\n",
    "    \n",
    "    def reconstructMatrices(self, vector):\n",
    "        \"\"\"\n",
    "        Dado un vector, rearma matrices del tamaño de las matrices de pesos.\n",
    "        \"\"\"\n",
    "        M0 = vector[0:self.Theta_0.size].reshape(self.Theta_0.shape)\n",
    "        M1 = vector[self.Theta_0.size:].reshape(self.Theta_1.shape)\n",
    "        return M0, M1\n",
    "        \n",
    "    def approxGradient(self, X, Y):\n",
    "        \"\"\"\n",
    "        Aproxima el valor del gradiente alrededor de los pesos actuales,\n",
    "        perturbando cada valor, uno por uno.\n",
    "        \"\"\"\n",
    "        vector = self.vectorWeights().copy()\n",
    "        approx = np.zeros(vector.shape)\n",
    "        perturb = np.zeros(vector.shape)\n",
    "        epsilon = 0.0001\n",
    "        \n",
    "        for i in range(len(vector)):\n",
    "            perturb[i] = epsilon\n",
    "            loss1 = self.calcError(X, Y, vector - perturb)\n",
    "            loss2 = self.calcError(X, Y, vector + perturb)\n",
    "            perturb[i] = 0\n",
    "            approx[i] = (loss2 - loss1) / (2 * epsilon)\n",
    "        return self.reconstructMatrices(approx)\n",
    "        \n",
    "    def gradientDescent(self, X, Y, alpha, ciclos=10, checkGradient = False):\n",
    "        \"\"\" Evalúa y ajusta los pesos de la red,\n",
    "        de acuerdo a los datos en X y los resultados\n",
    "        esperados, en Y.\n",
    "        \"\"\"\n",
    "        errores = np.zeros(ciclos)\n",
    "        for i in tqdm(range(ciclos)):\n",
    "            self.backPropagate(X, Y)\n",
    "            Grad_1 = self.Grad_1\n",
    "            Grad_0 = self.Grad_0\n",
    "            if checkGradient:\n",
    "                ApproxT0, ApproxT1 = self.approxGradient(X, Y)\n",
    "                print(\"Grad 0 = \", Grad_0, \"\\nApprox = \", ApproxT0, \"\\nDiff = \", Grad_0 - ApproxT0,\n",
    "                     \"\\nGrad 1 = \", Grad_1, \"\\nApprox = \", ApproxT1, \"\\nDiff = \", Grad_1 - ApproxT1)\n",
    "            self.Theta_1 -= alpha * Grad_1\n",
    "            self.Theta_0 -= alpha * Grad_0\n",
    "            errores[i] = self.error\n",
    "        if ciclos > 1:\n",
    "            plt.plot(np.arange(ciclos), errores)\n",
    "        \n",
    "    def printOutput(self):\n",
    "        print(self.A2.T)"
   ]
  },
  {
   "cell_type": "markdown",
   "metadata": {},
   "source": [
    "## Cargando conjunto de entrenamiento"
   ]
  },
  {
   "cell_type": "code",
   "execution_count": 10,
   "metadata": {
    "colab": {},
    "colab_type": "code",
    "id": "oMi2DiEd0Vgt",
    "outputId": "f8f750fe-7a5d-45a4-b1df-bf754a8bf0b8"
   },
   "outputs": [
    {
     "name": "stderr",
     "output_type": "stream",
     "text": [
      "100%|██████████| 10000/10000 [00:00<00:00, 131601.28it/s]\n"
     ]
    }
   ],
   "source": [
    "#xor.printOutput()\n",
    "X,Y=[],[]\n",
    "fh = open('poker-hand-testing.data')\n",
    "for i in tqdm(range(10000)):\n",
    "    row = list(map(int,fh.readline().strip().split(\",\")))\n",
    "    X.append(row[:-1])\n",
    "    Y.append(row[-1:])\n",
    "    \n",
    "X = np.array(X)\n",
    "Y = np.array(Y)\n",
    "fh.close()\n",
    "\n",
    "poker = POKER()\n",
    "poker.feedForward(X)"
   ]
  },
  {
   "cell_type": "code",
   "execution_count": 11,
   "metadata": {
    "colab": {},
    "colab_type": "code",
    "id": "ZN4sIGPu0Vgy",
    "outputId": "2bd6fe24-71fb-4d5b-ea0b-f471a8d27795"
   },
   "outputs": [],
   "source": [
    "#print(poker.vectorWeights())\n",
    "T0, T1 = poker.reconstructMatrices(poker.vectorWeights())\n",
    "#print(T0,\"\\n\\n\\n\", T1)"
   ]
  },
  {
   "cell_type": "code",
   "execution_count": 12,
   "metadata": {
    "colab": {},
    "colab_type": "code",
    "id": "eqec90ew0Vg2",
    "outputId": "e1fa47c0-7dd0-4749-81e0-c714089ba111"
   },
   "outputs": [
    {
     "name": "stderr",
     "output_type": "stream",
     "text": [
      "100%|██████████| 1/1 [00:01<00:00,  1.40s/it]\n"
     ]
    }
   ],
   "source": [
    "poker.gradientDescent(X, Y, 0.3, 1, checkGradient = False)"
   ]
  },
  {
   "cell_type": "code",
   "execution_count": 13,
   "metadata": {
    "colab": {},
    "colab_type": "code",
    "id": "OWp2m4940Vg5",
    "outputId": "f4a65530-ae53-4a2e-bc6a-dccdbeb46a69"
   },
   "outputs": [
    {
     "data": {
      "application/vnd.jupyter.widget-view+json": {
       "model_id": "a2600833e83146ba98f3cbc673146d8d",
       "version_major": 2,
       "version_minor": 0
      },
      "text/plain": [
       "interactive(children=(IntSlider(value=1025, description='ciclos', max=2000, min=50), Button(description='Run I…"
      ]
     },
     "metadata": {},
     "output_type": "display_data"
    }
   ],
   "source": [
    "@interact_manual(ciclos = (50, 2000))\n",
    "def trainXOR(ciclos):\n",
    "    poker.gradientDescent(X, Y, 0.3, ciclos)"
   ]
  },
  {
   "cell_type": "code",
   "execution_count": 15,
   "metadata": {
    "colab": {},
    "colab_type": "code",
    "id": "CtqYXrTY0Vg8",
    "outputId": "34cd6786-5227-4b1a-ccff-5376540b1f10"
   },
   "outputs": [
    {
     "name": "stdout",
     "output_type": "stream",
     "text": [
      "[[5.00810054e-01 4.18589433e-01 5.06238371e-02 ... 8.44296639e-04\n",
      "  4.46616016e-04 3.15232603e-04]\n",
      " [5.06779756e-01 4.13189850e-01 5.19673843e-02 ... 7.76697772e-04\n",
      "  4.42967576e-04 2.90082725e-04]\n",
      " [4.87190976e-01 4.22817127e-01 4.96642168e-02 ... 1.09387610e-03\n",
      "  4.90805795e-04 3.99297544e-04]\n",
      " ...\n",
      " [4.98637978e-01 4.17367214e-01 5.09095328e-02 ... 9.09707361e-04\n",
      "  4.64414028e-04 3.37805541e-04]\n",
      " [5.07840898e-01 4.12798990e-01 5.23144142e-02 ... 7.46114458e-04\n",
      "  4.38457564e-04 2.76737524e-04]\n",
      " [5.11642285e-01 4.09887762e-01 5.20043297e-02 ... 7.43938204e-04\n",
      "  4.34845362e-04 2.85110662e-04]]\n",
      "[[0]\n",
      " [1]\n",
      " [1]\n",
      " ...\n",
      " [1]\n",
      " [1]\n",
      " [1]]\n",
      "Theta_0 =  [[-0.12554502  0.90176704  1.43713422  0.6597706   1.44438906  1.03691632\n",
      "   1.13662185 -0.19743831  1.39362799  0.01800342  0.41920847]\n",
      " [ 0.89340871 -0.57586493 -0.27474302  0.19013884  0.19206637  0.34679561\n",
      "  -0.51808227  0.75914788 -0.68345309 -0.78692218 -0.24698503]\n",
      " [-0.41167393 -0.45169811  2.08401871  0.45518401  1.31887626 -0.18937242\n",
      "   1.24052832 -0.25318086  0.99824879  0.19499008  0.39731357]\n",
      " [ 0.02065173  0.41013302 -0.58272767  0.21657183 -0.4768652   0.1183033\n",
      "  -0.75072386 -0.49532281 -0.14489904 -1.00054967  0.15736591]\n",
      " [-0.6034588   0.25398774  0.03689137 -0.58979539  0.1129985  -0.63477076\n",
      "   0.34104442  0.39189047  0.05410444  0.06194102  0.02902087]\n",
      " [ 0.69805831  0.11362555 -0.02273177 -0.00830869  0.38852782 -0.90921181\n",
      "   0.59923308 -0.10700963 -0.18203103  0.57840745 -0.17226775]] \n",
      "Theta_1 [[ 1.49363226  1.08426212  0.69188427  1.61976194  0.21525909  0.68489839\n",
      "  -0.62442521]\n",
      " [ 1.13588516  1.54331891  0.87046094  1.12443624  0.30662779  0.44602011\n",
      "  -0.20145694]\n",
      " [ 1.06621829  0.40911638  0.43846954  0.11139179  0.04023391  0.69478749\n",
      "  -0.29615028]\n",
      " [ 0.39429337  0.44223533  0.25953384  0.33589182 -0.62612069 -0.9042457\n",
      "   0.69805269]\n",
      " [ 0.02564042 -0.10252764 -0.04068012 -0.31987307 -0.91812597 -0.95870815\n",
      "   0.55352357]\n",
      " [-0.23537789 -0.3045971  -0.58601722  0.10464729  0.71429496 -0.58457209\n",
      "  -0.24333548]\n",
      " [-1.04778352  0.2770317   0.31823358 -0.41356958  0.47563965  0.09594891\n",
      "  -0.87994926]\n",
      " [-1.04392832 -0.64793201  0.62188277  0.13645624  0.25549564 -0.73969509\n",
      "   0.01387685]\n",
      " [-1.29453271 -0.61352773  0.35985184 -0.94731371  0.30966716  0.1435024\n",
      "  -0.0908414 ]\n",
      " [-0.69883777 -0.8775698   0.72585799 -0.24022511 -0.42644527 -0.63207551\n",
      "  -0.82313199]]\n",
      "9982.285230637335\n"
     ]
    }
   ],
   "source": [
    "poker.feedForward(X)\n",
    "poker.printOutput()\n",
    "print(Y)\n",
    "print(\"Theta_0 = \", poker.Theta_0, \"\\nTheta_1\", poker.Theta_1)\n",
    "print(poker.error)"
   ]
  },
  {
   "cell_type": "code",
   "execution_count": null,
   "metadata": {
    "colab": {},
    "colab_type": "code",
    "id": "gRvwg1Yp0Vg-",
    "outputId": "d9a7d80a-a9c6-4238-91e1-61d86da3019b",
    "scrolled": true
   },
   "outputs": [],
   "source": [
    "from IPython.core.display import HTML\n",
    "def css_styling():\n",
    "    styles = open(\"../P1-HodgkinHuxley/styles/custom.css\", \"r\").read() #or edit path to custom.css\n",
    "    return HTML(styles)\n",
    "css_styling()"
   ]
  }
 ],
 "metadata": {
  "colab": {
   "name": "NN_XOR.ipynb",
   "provenance": [],
   "version": "0.3.2"
  },
  "kernelspec": {
   "display_name": "Python 3",
   "language": "python",
   "name": "python3"
  },
  "language_info": {
   "codemirror_mode": {
    "name": "ipython",
    "version": 3
   },
   "file_extension": ".py",
   "mimetype": "text/x-python",
   "name": "python",
   "nbconvert_exporter": "python",
   "pygments_lexer": "ipython3",
   "version": "3.7.4"
  }
 },
 "nbformat": 4,
 "nbformat_minor": 1
}
