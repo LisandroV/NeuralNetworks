{
 "cells": [
  {
   "cell_type": "markdown",
   "metadata": {},
   "source": [
    "# PRÁCTICA 02.\n",
    "# Perceptrón Simple.\n",
    "\n",
    "### OBJETIVO:\n",
    "\n",
    "Que el alumno implemente el perceptrón simple y lo aplique en distintos conjuntos de datos aplicando variaciones en la forma de aprendizaje del perceptrón."
   ]
  },
  {
   "cell_type": "code",
   "execution_count": 61,
   "metadata": {},
   "outputs": [
    {
     "name": "stderr",
     "output_type": "stream",
     "text": [
      "/usr/lib64/python3.7/_collections_abc.py:841: MatplotlibDeprecationWarning: \n",
      "The examples.directory rcparam was deprecated in Matplotlib 3.0 and will be removed in 3.2. In the future, examples will be found relative to the 'datapath' directory.\n",
      "  self[key] = other[key]\n"
     ]
    }
   ],
   "source": [
    "%matplotlib inline\n",
    "\n",
    "import matplotlib.pyplot as plt\n",
    "import matplotlib.cm as cm\n",
    "from mpl_toolkits.mplot3d import Axes3D\n",
    "\n",
    "import json, matplotlib\n",
    "s = json.load( open(\"styles/bmh_matplotlibrc.json\") )\n",
    "matplotlib.rcParams.update(s)\n",
    "from IPython.core.pylabtools import figsize\n",
    "figsize(11, 5)\n",
    "colores = [\"#348ABD\", \"#A60628\",\"#06A628\"]\n",
    "\n",
    "from ipywidgets import interact, interact_manual, interactive, fixed\n",
    "import ipywidgets as widgets\n",
    "from IPython.display import display\n",
    "import numpy as np\n",
    "import random\n",
    "\n",
    "### Remueve esta línea de código, pues agregarás tus propias funciones\n",
    "#from perceptron.Perceptron import *\n",
    "#from perceptron.minimos import *"
   ]
  },
  {
   "cell_type": "markdown",
   "metadata": {},
   "source": [
    "### PERCEPTRÓN\n",
    "\n",
    "Un perceptrón simple es una unidad computacional con un umbral $\\theta$, que al recibir $X \\text{ de }n$ entradas reales $X = x_1, x_2, \\cdots, x_n$ a través de sus pesos asociados $W = w_1, w_2, \\cdots, w_n$, da una salida de valor 1 si la desigualdad $\\sum_{i=1}^{n}w_ix_i \\geq \\theta$ se cumple, en otro caso la salida es 0.\n",
    "\n",
    "La ley de aprendizaje se define como: $w_i(t+1) = w_i (t) + \\alpha · d(x) · x_i$\n",
    "\n",
    "\n",
    "$$\n",
    "\\\n",
    "d(x)= \n",
    "\\begin{cases}\n",
    "1, & \\text{si } x \\in A;\\\\\n",
    "-1, & \\text{si } x \\in B\n",
    "\\end{cases}\n",
    "\\\n",
    "$$\n",
    "\n",
    "y $\\alpha$ la tasa de aprendizaje. Los pesos no se modifican si $x$ está bien clasificado.\n",
    "\n",
    "1.- Implementa la clase Perceptron que contenga lo siguiente:\n",
    "   * Inicialización del perceptrón dados los pesos iniciales.\n",
    "   * Función **evalua_escalon** que reciba X y evalúe la salida utilizando la función escalón en el intervalo [0,1].\n",
    "   * Función **entrena**, debe entrenar al perceptrón: modificación de los pesos en una iteración cada que se llame a esta función dada una tasa de aprendizaje.\n",
    "   \n",
    "2.- Crea un *Perceptron* de pesos iniciales aleatorios y entrénalo con el conjunto de datos datosAND con inicialización de pesos aleatorios.\n",
    "    \n",
    " * Completa la función **entrenaPerceptronAND** y utiliza tu función **entrena** para que en cada paso de entrenamiento se dibuje el conjunto de datos y el plano que divide al conjunto, tal como se muestra en la figura (utiliza colores para diferenciar al conjunto de datos)\n",
    " \n",
    " <img src=\"figuras/foo1.png\">\n",
    " \n",
    "HINT1: Recuerda que el vector de pesos W contiene el vector normal al plano.\n",
    " \n",
    "HINT2: Puedes utilizar la función scatter y plot_surface"
   ]
  },
  {
   "cell_type": "code",
   "execution_count": 62,
   "metadata": {},
   "outputs": [],
   "source": [
    "class Perceptron:\n",
    "\n",
    "    def __init__(self, weights, aprendizaje=0.07):\n",
    "        self.aprendizaje = aprendizaje\n",
    "        self.weights = weights\n",
    "           \n",
    "    def evalua_escalon(self, inputs):\n",
    "        suma = np.dot(inputs, self.weights)\n",
    "        return funcion_escalon(suma)\n",
    "\n",
    "    def entrena(self, entrenamiento, valores_esperados):# los elementos de entrenamiento son de la forma [x_1,...,x_n,Salida]\n",
    "        for i in range(len(entrenamiento)):\n",
    "            prediccion = self.evalua_escalon(entrenamiento[i])\n",
    "            for j in range(len(self.weights)-1):#actualización de pesos\n",
    "                self.weights[j+1] += self.aprendizaje  * (valores_esperados[i] - prediccion) * valores_esperados[i]\n",
    "            self.weights[0] += self.aprendizaje * (valores_esperados[i] - prediccion)\n",
    "\n",
    "def funcion_escalon(n):\n",
    "    if n >= 0:\n",
    "      return 1\n",
    "    return 0"
   ]
  },
  {
   "cell_type": "code",
   "execution_count": 64,
   "metadata": {},
   "outputs": [
    {
     "data": {
      "application/vnd.jupyter.widget-view+json": {
       "model_id": "02824afd9cb344ab9eaa64b77df999b6",
       "version_major": 2,
       "version_minor": 0
      },
      "text/plain": [
       "interactive(children=(Button(description='Run Interact', style=ButtonStyle()), Output()), _dom_classes=('widge…"
      ]
     },
     "metadata": {},
     "output_type": "display_data"
    }
   ],
   "source": [
    "datosAND = np.array([[1, 0, 0, 0],\n",
    "                     [1, 0 ,0, 1],\n",
    "                     [1, 0, 1, 0],\n",
    "                     [1, 0, 1, 1],\n",
    "                     [1, 1, 0, 0],\n",
    "                     [1, 1, 0, 1],\n",
    "                     [1, 1, 1, 0],\n",
    "                     [1, 1, 1, 1]])\n",
    "\n",
    "respuestasAND = np.array([0,0,0,0,0, 0, 0, 1])\n",
    "\n",
    "indiceX = 0\n",
    "epocas = 800\n",
    "\n",
    "@interact_manual()\n",
    "def entrenaPerceptronAND():\n",
    "    global indiceX, pasos\n",
    "    pesos = [random.uniform(-0.5,0.5) for e in range(4)] #pesos aleatorios entre -0.5 y 0.5\n",
    "\n",
    "    perceptronAND = Perceptron(pesos)\n",
    "    \n",
    "    for _ in range(epocas):\n",
    "        perceptronAND.entrena(datosAND,respuestasAND)\n",
    "    print(perceptronAND.weights)\n",
    "    xp = datosAND[:0,1]\n",
    "    yp = datosAND[:0,2]\n",
    "    zp = datosAND[:0,3]\n",
    "    #plano en la forma normal: w1*x + w2*y + w3*z + w0\n",
    "    xx, yy = np.meshgrid(np.arange(-.5, 1.5, 0.1),np.arange(-.5, 1.5, 0.1))\n",
    "    w = perceptronAND.weights\n",
    "    z = -(w[1] * xx + w[2] * yy + w[0]) * (1. / w[3])\n",
    "    fig = plt.figure()\n",
    "    ax = fig.add_subplot(111, projection='3d')\n",
    "    #ax.contour3D(xx, yy, z, 100, cmap='binary')\n",
    "    ax.scatter([0,0,0,0,1,1,1],[0,0,1,1,0,0,1],[0,1,0,1,0,1,0],marker='o')\n",
    "    ax.scatter([1],[1],[1],marker='o',color='r')\n",
    "    ax.plot_surface(xx, yy, z, rstride=1, cstride=1, cmap='winter', edgecolor='none')\n",
    "    \n",
    "    ax.set_xlabel('X Label')\n",
    "    ax.set_ylabel('Y Label')\n",
    "    ax.set_zlabel('Z Label')\n",
    "    \n",
    "    #graficar con vector normal en el plano\n",
    "    #w1x + w2y +(w3z) + w0\n",
    "    y = list(map(perceptronAND.evalua_escalon, datosAND))\n",
    "    print(\"AND =\", y)\n",
    "    "
   ]
  },
  {
   "cell_type": "markdown",
   "metadata": {
    "collapsed": true
   },
   "source": [
    "### MÍNIMOS CUADRADOS\n",
    "\n",
    "La meta es encontrar los pesos $w$ que mejor mapean los datos de entrada en los datos objetivo. Con ese fin, se plantea la ecuación de error:\n",
    "\n",
    "\\begin{equation}\n",
    "    E(w) = \\frac{1}{2} \\| \\bar{y} − \\bar{t} \\|^2\n",
    "\\end{equation}\n",
    "\n",
    "Con $\\bar{t}$ el vector de datos objetivo, $\\bar{y}$ el vector de salidas asociadas $ y(x) = X^Tw $\n",
    "\n",
    "A partir de la ecuación anterior obtenemos:\n",
    "\n",
    "\\begin{equation}\n",
    "E(w) = \\frac{1}{2}(\\bar{y}-\\bar{t})^T(\\bar{y}-\\bar{t})\n",
    "\\end{equation}\n",
    "\n",
    "Derivando respecto a $w$\n",
    "\n",
    "\\begin{equation}\n",
    "\\frac{dE(w)}{dw} = \\phi(\\bar{y}-\\bar{t})\n",
    "\\end{equation}\n",
    "\n",
    "con $\\phi= [x^1  \\cdots x^N] \\text{ y }x^i$ el i−ésimo vector de datos de entrada a la red. $N$ el número de datos/registros de entrenamiento.\n",
    "\n",
    "De lo anterior tenemos:\n",
    "\n",
    "\\begin{equation}\n",
    "w = (\\phi \\phi^T)^{-1}\\phi \\bar{t}\n",
    "\\end{equation}\n",
    "\n"
   ]
  },
  {
   "cell_type": "markdown",
   "metadata": {
    "collapsed": true
   },
   "source": [
    "### ENTRENAMIENTO Y PRUEBA\n",
    "\n",
    "Hay dos fases en el modelado con redes neuronales:\n",
    "* **Fase de entrenamiento:** Se utiliza un conjunto de datos o patrones de entrenamiento\n",
    "para determinar los pesos que definen el modelo. Se calculan de manera iterativa con el objeto de minimizar el error cometido entre la salida obtenida por la red neuronal y la salida deseada.\n",
    "\n",
    "* **Fase de prueba:** Se utiliza para estimar el error de generalización del modelo.\n",
    "\n",
    "\n",
    "\n",
    "1. Dado el conjunto de datos datos.txt anexo, entrena un perceptrón con el 70% de los datos (elegidos aleatoriamente). El otro 30% será el conjunto de prueba.\n",
    "\n",
    "2. Para el mismo conjunto de entrenamiento, calcula los pesos $w$ con el método de mínimos cuadrados.\n",
    "\n",
    "2. Grafica y compara los resultados de $w$ obtenidos del entrenamiento del perceptrón y el de mínimos cuadrados. La salida dece ser similar a la figura siguiente:\n",
    "<img src=\"figuras/min_per.png\">\n",
    "\n",
    "3. Utiliza el conjunto de prueba para obtener la exactitud de los modelos.\n",
    "\n",
    "OBS:  El archivo datos.txt contiene 3 columnas separadas por comas, las dos primeras columnas son el valor del conjunto $X = \\{x_1, x_2\\}$; la tercer columna son los datos objetivo $\\bar{t}$\n",
    "\n",
    "\n",
    "El criterio de parada tómalo como un número fijo de iteraciones o hasta que el conjunto esté  totalmente clasificado y fija la tasa de aprendizaje a una constante.\n"
   ]
  },
  {
   "cell_type": "markdown",
   "metadata": {},
   "source": [
    "### Division de datos"
   ]
  },
  {
   "cell_type": "code",
   "execution_count": 65,
   "metadata": {},
   "outputs": [
    {
     "name": "stdout",
     "output_type": "stream",
     "text": [
      "|entrenamiento| = 64\n",
      "|prueba| = 36\n"
     ]
    }
   ],
   "source": [
    "\n",
    "cjto_entrenamiento, cjto_prueba = list(), list()\n",
    "with open(\"datos1.txt\") as f:\n",
    "  for line in f:\n",
    "    new_line = [1] + line.strip().split(\",\") #agregando sesgo\n",
    "    if(random.random() <= .7):\n",
    "        cjto_entrenamiento.append(new_line)\n",
    "    else:\n",
    "        cjto_prueba.append(new_line)\n",
    "        \n",
    "respuestas_entrenam = np.array(list(map(lambda x:x.pop(), cjto_entrenamiento)),dtype=float)\n",
    "respuestas_prueba = np.array(list(map(lambda x:x.pop(), cjto_prueba)),dtype=float)\n",
    "cjto_entrenamiento = np.array(cjto_entrenamiento,dtype=float)\n",
    "cjto_prueba = np.array(cjto_prueba,dtype=float)\n",
    "\n",
    "print(\"|entrenamiento| = \" + str(len(cjto_entrenamiento)))\n",
    "print(\"|prueba| = \" + str(len(cjto_prueba)))"
   ]
  },
  {
   "cell_type": "markdown",
   "metadata": {
    "collapsed": true
   },
   "source": [
    "### Entrenamiento de perceptrón"
   ]
  },
  {
   "cell_type": "code",
   "execution_count": 66,
   "metadata": {},
   "outputs": [
    {
     "name": "stdout",
     "output_type": "stream",
     "text": [
      "Pesos con Perceptron:[-0.26287151890057797, -0.023950835087985733, 0.43676019022361096]\n"
     ]
    }
   ],
   "source": [
    "pesos = [random.uniform(-0.5,0.5) for e in range(3)] #pesos aleatorios entre -0.5 y 0.5\n",
    "percep2 = Perceptron(pesos)\n",
    "epocas = 800\n",
    "\n",
    "for _ in range(epocas):\n",
    "    percep2.entrena(cjto_entrenamiento,respuestas_entrenam.transpose())\n",
    "    \n",
    "print(\"Pesos con Perceptron:\" + str(percep2.weights))"
   ]
  },
  {
   "cell_type": "markdown",
   "metadata": {},
   "source": [
    "### Entrenamiento por mínimos cuadrados"
   ]
  },
  {
   "cell_type": "code",
   "execution_count": 72,
   "metadata": {},
   "outputs": [
    {
     "name": "stdout",
     "output_type": "stream",
     "text": [
      "Pesos por Mínimos Cuadrados: [-0.06775776  0.93480856]\n"
     ]
    }
   ],
   "source": [
    "#IMPORTANTE: para el entrenamiento por mínimos cuadrados, al ser un método analítico, se necesita quitar el sesgo\n",
    "X = cjto_entrenamiento[:,1:3] #quitando el sesgo\n",
    "W = np.linalg.inv(X.T.dot(X)).dot(X.T).dot(respuestas_entrenam) #aplicando fórmula normal\n",
    "print(\"Pesos por Mínimos Cuadrados: \" + str(W))\n",
    "\n",
    "def evaluaMinimos(xy_arr):\n",
    "     res = W[0]*xy_arr[0] + W[1]\n",
    "     return funcion_escalon(xy_arr[1]-res)"
   ]
  },
  {
   "cell_type": "code",
   "execution_count": 73,
   "metadata": {},
   "outputs": [
    {
     "data": {
      "image/png": "[encoded data removed]",
      "text/plain": [
       "<Figure size 792x360 with 1 Axes>"
      ]
     },
     "metadata": {
      "needs_background": "light"
     },
     "output_type": "display_data"
    }
   ],
   "source": [
    "#funcion para poder dibujar los puntos de entrenamiento y distingirlos con colores\n",
    "def separateXY(cjto,respuestas):\n",
    "    xs = list(map(lambda x: x[1],cjto))\n",
    "    ys = list(map(lambda x: x[2],cjto))\n",
    "    colors = list(map(lambda x: 'c' if x==0 else 'm', respuestas))\n",
    "    return xs,ys,colors\n",
    "\n",
    "def plotLearnedFunctions():\n",
    "    rango = np.linspace(-4, 6)\n",
    "    w = percep2.weights\n",
    "    percept_val = (lambda x: -(w[1]*x + w[0])*(1./w[2]))(rango)\n",
    "    min_sq_val = (lambda x: W[0]*x + W[1])(rango)\n",
    "    \n",
    "    plt.plot(rango, percept_val, label=\"perceptrón\")\n",
    "    plt.plot(rango, min_sq_val, label=\"minimos cuadrados\")\n",
    "    \n",
    "    pts_x, pts_y, colors = separateXY(cjto_entrenamiento,respuestas_entrenam)\n",
    "    \n",
    "    plt.scatter(pts_x, pts_y, c=colors)\n",
    "    \n",
    "    plt.title(\"Aprendizaje\")\n",
    "    plt.legend()\n",
    "plotLearnedFunctions()"
   ]
  },
  {
   "cell_type": "markdown",
   "metadata": {},
   "source": [
    "## Precisión y cobertura de los modelos\n",
    "\n",
    "Utilizando el conjunto de datos prueba, se calculan con las siguientes fórmulas:\n",
    "\n",
    "\\begin{equation}\n",
    "    Precisión = \\frac{VP}{VP + FP}\n",
    "\\end{equation}\n",
    "\n",
    "\n",
    "\\begin{equation}\n",
    "    Cobertura = \\frac{VP}{VP + FN}\n",
    "\\end{equation}\n"
   ]
  },
  {
   "cell_type": "code",
   "execution_count": 84,
   "metadata": {},
   "outputs": [
    {
     "name": "stdout",
     "output_type": "stream",
     "text": [
      "MÍNIMOS CUADRADOS: \n",
      "\t precisión: 1.0\n",
      "\t cobertura: 1.0\n",
      "\n",
      "PERCEPTRÓN: \n",
      "\t precisión: 1.0\n",
      "\t cobertura: 1.0\n"
     ]
    }
   ],
   "source": [
    "def get_precision_cobertura(list_esperado,list_obtenido):\n",
    "    vp,fp,fn = 0,0,0\n",
    "    for i in range(len(list_esperado)):\n",
    "        if(list_esperado[i]==list_obtenido[i]):\n",
    "            vp+=1\n",
    "        elif(list_esperado[i]==0 and list_obtenido[i]==1):\n",
    "            fp+=1\n",
    "        elif(list_esperado[i]==1 and list_obtenido[i]==0):\n",
    "            fn+=1\n",
    "    precision = vp/(vp+fp)\n",
    "    cobertura = vp/(vp+fn)\n",
    "    return precision, cobertura\n",
    "\n",
    "#cálculo para mínimos cuadrados\n",
    "min_sqr_obtenido = np.array(list(map(evaluaMinimos, cjto_prueba[:,1:3])),dtype=float)\n",
    "pre, cob = get_precision_cobertura(respuestas_prueba, min_sqr_obtenido)\n",
    "print(\"MÍNIMOS CUADRADOS: \\n\\t precisión: \" + str(pre) + \"\\n\\t cobertura: \" + str(cob))\n",
    "\n",
    "#cálculo para perceptrón\n",
    "percep_obtenido = np.array(list(map(percep2.evalua_escalon, cjto_prueba)),dtype=float)\n",
    "pre, cob = get_precision_cobertura(respuestas_prueba, min_sqr_obtenido)\n",
    "print(\"\\nPERCEPTRÓN: \\n\\t precisión: \" + str(pre) + \"\\n\\t cobertura: \" + str(cob))"
   ]
  }
 ],
 "metadata": {
  "kernelspec": {
   "display_name": "Python 3",
   "language": "python",
   "name": "python3"
  },
  "language_info": {
   "codemirror_mode": {
    "name": "ipython",
    "version": 3
   },
   "file_extension": ".py",
   "mimetype": "text/x-python",
   "name": "python",
   "nbconvert_exporter": "python",
   "pygments_lexer": "ipython3",
   "version": "3.7.4"
  }
 },
 "nbformat": 4,
 "nbformat_minor": 1
}
