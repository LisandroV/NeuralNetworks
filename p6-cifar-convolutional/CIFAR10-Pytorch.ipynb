{
 "cells": [
  {
   "cell_type": "markdown",
   "metadata": {},
   "source": [
    "# Practica: Redes convolucionales"
   ]
  },
  {
   "cell_type": "code",
   "execution_count": 22,
   "metadata": {},
   "outputs": [],
   "source": [
    "import matplotlib.pyplot as plt\n",
    "import numpy as np\n",
    "from MyUtils.plot import *\n",
    "\n",
    "#%connect_info\n",
    "import torch\n",
    "import torchvision\n",
    "import torch.nn as nn\n",
    "import torch.optim as optim\n",
    "from torch.autograd import Variable\n",
    "import torchvision.transforms as transforms\n",
    "\n",
    "from torchvision.datasets import CIFAR10\n",
    "from torchvision.datasets import MNIST\n",
    "\n",
    "import torch.nn.functional as FUN"
   ]
  },
  {
   "cell_type": "markdown",
   "metadata": {},
   "source": [
    "# MNIST con Pytorch\n",
    "Pytorch facilita la creación de redes neuronales, como ejemplo puedes tomar la siguiente red que clasifica a los datos del conjunto MNIST haciendo uso de la arquitectura vista anteriormente: una capa de entrada con 784 neuronas, 27 neuronas en una capa oculta y una salida de 10 unidades.\n",
    "\n",
    "Para implementar una red con esta herramienta debes extender a la clase nn.Module y a sus métodos:\n",
    "- Constructor: donde estableces cuáles serán las capas que componen a la arquitectura\n",
    "- Forward: donde indicas como se conectan las capas indicadas en el constructor\n",
    "\n",
    "Ademas, para simplificar el proceso puedes agregar un metodo **train** al cual le pases el numero de iteraciones y otros parametros para entrenar la red."
   ]
  },
  {
   "cell_type": "code",
   "execution_count": 23,
   "metadata": {},
   "outputs": [],
   "source": [
    "#Descargamos el conjunto de datos en las variables.\n",
    "train_dataset_mnist = MNIST(root='./data',train=True,download=True,\n",
    "                          transform=transforms.ToTensor())\n",
    "test_dataset_mnist  = MNIST(root='./data',train=False,download=True,\n",
    "                          transform=transforms.ToTensor())\n",
    "\n",
    "params = {'batch_size': 64,\n",
    "          'shuffle': True,\n",
    "          'num_workers': 6}\n",
    "\n",
    "#Creamos un DataLoader,el cual nos permite iterar sobre nuestros datos y \n",
    "#administrarlos facilmente en lotes.\n",
    "train_loader_mnist  = torch.utils.data.DataLoader(dataset=train_dataset_mnist,batch_size=64,\n",
    "                                                 shuffle=True)\n",
    "\n",
    "test_loader_mnist   = torch.utils.data.DataLoader(dataset=test_dataset_mnist,batch_size=64,\n",
    "                                                 shuffle=True)"
   ]
  },
  {
   "cell_type": "code",
   "execution_count": 24,
   "metadata": {},
   "outputs": [],
   "source": [
    "def reshape_mnist(batch):\n",
    "    '''Recibe un batch de informacion de MNIST y lo aplana\n",
    "    Ej: [5,28,28]-> [5,784]'''\n",
    "    return batch.view(-1,28*28)\n",
    "\n",
    "def contarCorrectas(net,batch,labels,func=None):\n",
    "    '''Dado un batch y sus etiquetas, cuenta el numero de respuestas\n",
    "    correctas de una red, el parametro func aplica una modificacion al \n",
    "    tensor que contiene los datos'''\n",
    "    \n",
    "    if(func!=None):\n",
    "        batch=func(batch)\n",
    "        salidas=net(batch)\n",
    "    else:\n",
    "        salidas=net(batch)\n",
    "    respuestas=salidas.max(dim=1)[1]\n",
    "    cantidadCorrectas=(respuestas==labels).sum()\n",
    "    return cantidadCorrectas\n",
    "    \n",
    "def calcularPrecisionGlobal(net,data_loader,batch_size,func=None,cuda=False):\n",
    "    '''Calcula la precision de una red dado un data_loader,\n",
    "    recive una funcion que transforma los datos en caso de ser necesario'''\n",
    "    correctas=0\n",
    "    for (images,labels) in data_loader:\n",
    "        if(cuda and torch.cuda.is_available()):\n",
    "            images=images.cuda()\n",
    "            labels=labels.cuda()\n",
    "        correctas+=contarCorrectas(net,images,labels,func)        \n",
    "    correctas=correctas.data.tolist()\n",
    "    return (100*correctas)/(len(data_loader)*batch_size) "
   ]
  },
  {
   "cell_type": "code",
   "execution_count": null,
   "metadata": {},
   "outputs": [
    {
     "name": "stdout",
     "output_type": "stream",
     "text": [
      "Epoch [0/25], Step 938, Loss: 2.2337\n",
      "Epoch [2/25], Step 938, Loss: 2.2609\n"
     ]
    }
   ],
   "source": [
    "#Nuestro modelo debe heredar de nn.Module\n",
    "class MNIST_NET(nn.Module):\n",
    "    def __init__(self,input_size,hidden_size,num_classes):\n",
    "        super(MNIST_NET,self).__init__()\n",
    "        #Definimos nuestras unidades de entrada y las agregamos al objeto actual\n",
    "        self.fc1 = nn.Linear(input_size,hidden_size,bias=True)\n",
    "        self.sig1= nn.Sigmoid() \n",
    "        self.fc2 = nn.Linear(hidden_size,num_classes,bias=True)        \n",
    "    \n",
    "    def forward(self,input_data):\n",
    "        '''Definimos como seran procesados los datos de entrada'''\n",
    "        out=self.fc1(input_data) #Primero se hacen pasar por la capa lineal\n",
    "        out=self.sig1(out)       #Despues,la salida para por la funcion sigmode\n",
    "        out=self.fc2(out)        #La salida finalmente pasa por otra capa lineal\n",
    "        return out\n",
    "\n",
    "    def train(self,epochs,data_loader,criterion,optimizer,cuda=False):\n",
    "        '''Entrena la red net, por un numero de epocas \"epochs\" con el data_loader\n",
    "        proporcionado,usando como funcion de perdida la definida en \"criterion\" y el\n",
    "        optimizador pasado como parametro'''\n",
    "        for epoch in range(epochs):\n",
    "            for i,(images,labels) in enumerate(data_loader):\n",
    "\n",
    "                images = Variable(images.view(-1,28*28))#aplanamos el batch actual\n",
    "                labels = Variable(labels.view(-1,))     #convertimos el tensor a un tensor de valores unitarios\n",
    "                if(cuda and torch.cuda.is_available()): #Si nuestra PC cuenta con GPU,realizamos calculos en ella\n",
    "                    images=images.cuda()\n",
    "                    labels=labels.cuda()\n",
    "\n",
    "                optimizer.zero_grad()\n",
    "                outputs= self(images)#llamar a nuestro objeto con parametros es introducirlos a la red\n",
    "                loss   = criterion(outputs,labels)\n",
    "                loss.backward()\n",
    "                optimizer.step()\n",
    "\n",
    "            if (epoch) % 2 == 0:                              # Logging\n",
    "                print('Epoch [%d/%d], Step %d, Loss: %.4f'\n",
    "                 %(epoch, epochs, i+1, loss.item()))\n",
    "            \n",
    "#Instanciamos la red que ya conocemos para MNIST de 28*28 --> 27 --> 10\n",
    "Red =MNIST_NET(28*28,27,10)\n",
    "#Red.cuda() #puedes descomentar esta linea si tienes GPU disponible\n",
    "#Escogemos la funcion de error para el modelo (entropia cruzada)\n",
    "criterio   = nn.CrossEntropyLoss()\n",
    "optimizer  = torch.optim.SGD(Red.parameters(),lr=0.001)\n",
    "#Entrenamos la red durante 100 pasos,con entropia cruzada y SGD \n",
    "Red.train(25,train_loader_mnist,criterio,optimizer,cuda=False) #puedes agregar cuda=true si tienes GPU disponible"
   ]
  },
  {
   "cell_type": "code",
   "execution_count": null,
   "metadata": {},
   "outputs": [],
   "source": [
    "prec_train =calcularPrecisionGlobal(Red,train_loader_mnist,64,func=reshape_mnist,cuda=False)\n",
    "prec_val   =calcularPrecisionGlobal(Red,test_loader_mnist,64,func=reshape_mnist,cuda=False)\n",
    "print(\"Precision en conjunto de entrenamiento: %.4f%%\"%(prec_train))\n",
    "print(\"Precision en conjunto de validacion: %.4f%%\"%(prec_val))"
   ]
  },
  {
   "cell_type": "markdown",
   "metadata": {},
   "source": [
    "# Cifar 10 y redes convolucionales"
   ]
  },
  {
   "cell_type": "markdown",
   "metadata": {},
   "source": [
    "La arquitectura que deberas implementar debe tener las siguientes caracteristicas:\n",
    "\n",
    "    - Una capa convolucional de entrada con un filtro de 5x5x3 y 64 filtros de salida\n",
    "    - Una capa de MaxPooling \n",
    "    - Otra capa convolucional con un filtro de 5x5x64 y 64 filtros de salida\n",
    "    - Una capa de MaxPooling\n",
    "    - Una capa completamente conectada con 384 neuronas,cuya activacion es ReLu\n",
    "    - Una capa completamente conectada con 192 neuronas,cuya activacion es ReLu\n",
    "    -Finalmente,una capa de salida con 10 neuronas\n",
    "Es importante señalar que entre cada capa convolucional y de pooling existe una activacion **ReLu**\n",
    "\n",
    "Graficamente, algo similar a lo mostrado en la siguiente figura:\n",
    "<img src=\"AlexNet-cifar10.png\" alt=\"Arquitectura de la red\" title=\"Red convolucional\" />"
   ]
  },
  {
   "cell_type": "markdown",
   "metadata": {},
   "source": [
    "# Cifar 10\n",
    "Es un conjunto de datos de imagenes que tiene 60,000 imagenes de 30x30 a color de 10 clases distintas (cada clase con 6,000 imagenes).\n",
    "Las clases de este conjunto de datos corresponden a:\n",
    "airplane, automobile, bird, cat, deer, dog, frog, horse, ship, y truck.\n",
    "\n",
    "Para clasificar este conjunto de datos usaremos una red convolucional anteriormente descrita en Pytorch."
   ]
  },
  {
   "cell_type": "code",
   "execution_count": 2,
   "metadata": {},
   "outputs": [
    {
     "name": "stdout",
     "output_type": "stream",
     "text": [
      "Files already downloaded and verified\n",
      "Files already downloaded and verified\n"
     ]
    }
   ],
   "source": [
    "#Cargamos los datos de este conjunto en las variables correspondientes al igual que el caso de MNIST\n",
    "trainset = torchvision.datasets.CIFAR10(root='./data', train=True,\n",
    "                                        download=True, transform=transforms.ToTensor())\n",
    "testset = torchvision.datasets.CIFAR10(root='./data', train=False,\n",
    "                                       download=True, transform=transforms.ToTensor())\n",
    "\n",
    "trainloader = torch.utils.data.DataLoader(trainset, batch_size=4,\n",
    "                                          shuffle=True, num_workers=2)\n",
    "\n",
    "testloader = torch.utils.data.DataLoader(testset, batch_size=4,\n",
    "                                         shuffle=False, num_workers=2)\n",
    "\n",
    "classes = ('plane', 'car', 'bird', 'cat',\n",
    "           'deer', 'dog', 'frog', 'horse', 'ship', 'truck')"
   ]
  },
  {
   "cell_type": "code",
   "execution_count": 11,
   "metadata": {},
   "outputs": [
    {
     "data": {
      "image/png": "[encoded data removed]",
      "text/plain": [
       "<Figure size 432x288 with 1 Axes>"
      ]
     },
     "metadata": {
      "needs_background": "light"
     },
     "output_type": "display_data"
    },
    {
     "name": "stdout",
     "output_type": "stream",
     "text": [
      "plane  bird  deer   dog\n"
     ]
    }
   ],
   "source": [
    "#Mostrando imagen\n",
    "def imshow(img):\n",
    "    #img = img / 2 + 0.5     # unnormalize\n",
    "    npimg = img.numpy()\n",
    "    plt.imshow(np.transpose(npimg, (1, 2, 0)))\n",
    "    plt.show()\n",
    "\n",
    "\n",
    "# get some random training images\n",
    "dataiter = iter(trainloader)\n",
    "images, labels = dataiter.next()\n",
    "\n",
    "# show images\n",
    "imshow(torchvision.utils.make_grid(images))\n",
    "# print labels\n",
    "print(' '.join('%5s' % classes[labels[j]] for j in range(4)))"
   ]
  },
  {
   "cell_type": "code",
   "execution_count": 4,
   "metadata": {},
   "outputs": [],
   "source": [
    "#airplane, automobile, bird, cat, deer, dog, frog, horse, ship, and truck.\n",
    "import torch.nn.functional as F\n",
    "class CIFAR_NET(nn.Module):\n",
    "    def __init__(self):\n",
    "        '''Constructor de la red neuronal\n",
    "        En esta funcion defines las operaciones que seran realizadas y \n",
    "        las agregas a self para tenerlas disponibles despues'''\n",
    "        super(CIFAR_NET, self).__init__()\n",
    "        \n",
    "        #Toma en cuenta el constructor de las capas convolucionales\n",
    "        #torch.nn.Conv2d(in_channels, out_channels, kernel_size, stride=1,padding=0, dilation=1, groups=1, bias=True)\n",
    "        #Una capa de neuronas  se declara con:\n",
    "        #nn.Linear(in_features= x ,out_features=y)\n",
    "        \n",
    "        self.l1_conv = nn.Conv2d(3, 64, 5)\n",
    "        self.l2_pool = nn.MaxPool2d(2)\n",
    "        self.l3_conv = nn.Conv2d(64, 64, 5)\n",
    "        self.l4_pool = nn.MaxPool2d(2)\n",
    "        self.l5_linear = nn.Linear(64 * 5 * 5, 384)\n",
    "        self.l6_linear = nn.Linear(384, 192)\n",
    "        self.l7_linear = nn.Linear(192, 10)\n",
    "\n",
    "\n",
    "    def forward(self, x):\n",
    "        '''Ejecuta forward sobre los datos de entrada x\n",
    "        En esta funcion debes definir de manera consecutiva el orden\n",
    "        de las operaciones capa por capa que definiste en el constructor y\n",
    "        devolver el resultado'''\n",
    "        x = FUN.relu(self.l1_conv(x))\n",
    "        x = self.l2_pool(x)\n",
    "        x = FUN.relu(self.l3_conv(x))\n",
    "        x = self.l4_pool(x)\n",
    "        x = x.view(-1, 64 * 5 * 5)\n",
    "        x = FUN.relu(self.l5_linear(x))\n",
    "        x = FUN.relu(self.l6_linear(x))\n",
    "        x = self.l7_linear(x)\n",
    "        return x\n",
    "    \n",
    "    def train(self,epochs,data_loader,criterion,optimizer,cuda=False):\n",
    "        '''Entrena la red net, por un numero de epocas \"epochs\" con el data_loader\n",
    "        proporcionado,usando como funcion de perdida la definida en \"criterion\" y el\n",
    "        optimizador pasado como parametro'''\n",
    "        #Recuerda incluir una manera de monitorizar el desempeño actual de la red\n",
    "        #Es util mostrar el valor actual de perdida y de precision\n",
    "        \n",
    "        for epoch in range(2):  # loop over the dataset multiple times\n",
    "\n",
    "            running_loss = 0.0\n",
    "            for i, data in enumerate(trainloader, 0):\n",
    "                # get the inputs; data is a list of [inputs, labels]\n",
    "                inputs, labels = data\n",
    "\n",
    "                # zero the parameter gradients\n",
    "                optimizer.zero_grad()\n",
    "\n",
    "                # forward + backward + optimize\n",
    "                outputs = self.forward(inputs)\n",
    "                loss = criterion(outputs, labels)\n",
    "                loss.backward()\n",
    "                optimizer.step()\n",
    "\n",
    "                # print statistics\n",
    "                running_loss += loss.item()\n",
    "                if i % 2000 == 1999:    # print every 2000 mini-batches\n",
    "                    print('[%d, %5d] loss: %.3f' %\n",
    "                          (epoch + 1, i + 1, running_loss / 2000))\n",
    "                    running_loss = 0.0\n",
    "\n",
    "        print('Finished Training')"
   ]
  },
  {
   "cell_type": "code",
   "execution_count": 5,
   "metadata": {},
   "outputs": [
    {
     "name": "stdout",
     "output_type": "stream",
     "text": [
      "[1,  2000] loss: 2.209\n",
      "[1,  4000] loss: 1.968\n",
      "[1,  6000] loss: 1.778\n",
      "[1,  8000] loss: 1.630\n",
      "[1, 10000] loss: 1.545\n",
      "[1, 12000] loss: 1.478\n",
      "[2,  2000] loss: 1.409\n",
      "[2,  4000] loss: 1.363\n",
      "[2,  6000] loss: 1.298\n",
      "[2,  8000] loss: 1.277\n",
      "[2, 10000] loss: 1.224\n",
      "[2, 12000] loss: 1.197\n",
      "Finished Training\n"
     ]
    }
   ],
   "source": [
    "RedCIFAR=CIFAR_NET()\n",
    "#RedCIFAR.cuda() #puedes descomentar esta linea si tienes GPU disponible\n",
    "criterio = nn.CrossEntropyLoss()\n",
    "optimizer = optim.SGD(RedCIFAR.parameters(), lr=0.001, momentum=0.9)\n",
    "\n",
    "#Entrenamos la red durante 50 pasos(o los que consideres necesarios),con entropia cruzada y el optimizador \n",
    "RedCIFAR.train(50,trainloader,criterio,optimizer,cuda=False) #puedes agregar cuda=True si tienes GPU disponible"
   ]
  },
  {
   "cell_type": "code",
   "execution_count": 12,
   "metadata": {},
   "outputs": [
    {
     "name": "stdout",
     "output_type": "stream",
     "text": [
      "Predicted:  plane   cat  deer   cat\n"
     ]
    }
   ],
   "source": [
    "outputs = RedCIFAR.forward(images)\n",
    "_, predicted = torch.max(outputs, 1)\n",
    "print('Predicted: ', ' '.join('%5s' % classes[predicted[j]] for j in range(4)))\n",
    "\n",
    "#prec_train =calcularPrecisionGlobal(RedCIFAR,trainloader,4)\n",
    "#prec_val   =calcularPrecisionGlobal(RedCIFAR,testloader,4)\n",
    "#print(\"Precision en conjunto de entrenamiento: %.4f%%\"%(prec_train),cuda=False)\n",
    "#print(\"Precision en conjunto de validacion: %.4f%%\"%(prec_val),cuda=False)"
   ]
  },
  {
   "cell_type": "markdown",
   "metadata": {},
   "source": [
    "## Ejercicios:\n",
    "    -- Crea las funciones necesarias para poder introducir datos concretos a la red (una vez ya entrenada) y obtener el resultado que esta devuelve.\n",
    "    -- Con la red neuronal entrenada obten la matriz de confusion de ambos conjuntos (entrenamiento y prueba) con las 10 clases posibles y muestrala.\n",
    "    \n",
    "## Extra:\n",
    "    -- Despues de cada MaxPool normaliza las salidas y contrasta el rendimiento de la red.\n",
    "    -- Graficar las imagenes del conjunto de datos bajo demanda.\n",
    "    -- Muestra los filtros aprendidos."
   ]
  },
  {
   "cell_type": "code",
   "execution_count": 18,
   "metadata": {},
   "outputs": [],
   "source": []
  },
  {
   "cell_type": "code",
   "execution_count": 21,
   "metadata": {},
   "outputs": [
    {
     "ename": "NameError",
     "evalue": "name 'np' is not defined",
     "output_type": "error",
     "traceback": [
      "\u001b[0;31m---------------------------------------------------------------------------\u001b[0m",
      "\u001b[0;31mNameError\u001b[0m                                 Traceback (most recent call last)",
      "\u001b[0;32m<ipython-input-21-473182b862b2>\u001b[0m in \u001b[0;36m<module>\u001b[0;34m\u001b[0m\n\u001b[1;32m      2\u001b[0m \u001b[0;34m\u001b[0m\u001b[0m\n\u001b[1;32m      3\u001b[0m im, cbar = heatmap(harvest, vegetables, farmers, ax=ax,\n\u001b[0;32m----> 4\u001b[0;31m                    cmap=\"YlGn\", cbarlabel=\"harvest [t/year]\")\n\u001b[0m\u001b[1;32m      5\u001b[0m \u001b[0mtexts\u001b[0m \u001b[0;34m=\u001b[0m \u001b[0mannotate_heatmap\u001b[0m\u001b[0;34m(\u001b[0m\u001b[0mim\u001b[0m\u001b[0;34m,\u001b[0m \u001b[0mvalfmt\u001b[0m\u001b[0;34m=\u001b[0m\u001b[0;34m\"{x:.1f} t\"\u001b[0m\u001b[0;34m)\u001b[0m\u001b[0;34m\u001b[0m\u001b[0;34m\u001b[0m\u001b[0m\n\u001b[1;32m      6\u001b[0m \u001b[0;34m\u001b[0m\u001b[0m\n",
      "\u001b[0;32m~/Documents/7sem/neuronales/NeuralNetworks/p6-cifar-convolutional/MyUtils/plot.py\u001b[0m in \u001b[0;36mheatmap\u001b[0;34m(data, row_labels, col_labels, ax, cbar_kw, cbarlabel, **kwargs)\u001b[0m\n\u001b[1;32m     34\u001b[0m \u001b[0;34m\u001b[0m\u001b[0m\n\u001b[1;32m     35\u001b[0m     \u001b[0;31m# We want to show all ticks...\u001b[0m\u001b[0;34m\u001b[0m\u001b[0;34m\u001b[0m\u001b[0;34m\u001b[0m\u001b[0m\n\u001b[0;32m---> 36\u001b[0;31m     \u001b[0max\u001b[0m\u001b[0;34m.\u001b[0m\u001b[0mset_xticks\u001b[0m\u001b[0;34m(\u001b[0m\u001b[0mnp\u001b[0m\u001b[0;34m.\u001b[0m\u001b[0marange\u001b[0m\u001b[0;34m(\u001b[0m\u001b[0mdata\u001b[0m\u001b[0;34m.\u001b[0m\u001b[0mshape\u001b[0m\u001b[0;34m[\u001b[0m\u001b[0;36m1\u001b[0m\u001b[0;34m]\u001b[0m\u001b[0;34m)\u001b[0m\u001b[0;34m)\u001b[0m\u001b[0;34m\u001b[0m\u001b[0;34m\u001b[0m\u001b[0m\n\u001b[0m\u001b[1;32m     37\u001b[0m     \u001b[0max\u001b[0m\u001b[0;34m.\u001b[0m\u001b[0mset_yticks\u001b[0m\u001b[0;34m(\u001b[0m\u001b[0mnp\u001b[0m\u001b[0;34m.\u001b[0m\u001b[0marange\u001b[0m\u001b[0;34m(\u001b[0m\u001b[0mdata\u001b[0m\u001b[0;34m.\u001b[0m\u001b[0mshape\u001b[0m\u001b[0;34m[\u001b[0m\u001b[0;36m0\u001b[0m\u001b[0;34m]\u001b[0m\u001b[0;34m)\u001b[0m\u001b[0;34m)\u001b[0m\u001b[0;34m\u001b[0m\u001b[0;34m\u001b[0m\u001b[0m\n\u001b[1;32m     38\u001b[0m     \u001b[0;31m# ... and label them with the respective list entries.\u001b[0m\u001b[0;34m\u001b[0m\u001b[0;34m\u001b[0m\u001b[0;34m\u001b[0m\u001b[0m\n",
      "\u001b[0;31mNameError\u001b[0m: name 'np' is not defined"
     ]
    },
    {
     "data": {
      "image/png": "[encoded data removed]",
      "text/plain": [
       "<Figure size 432x288 with 2 Axes>"
      ]
     },
     "metadata": {
      "needs_background": "light"
     },
     "output_type": "display_data"
    }
   ],
   "source": [
    "fig, ax = plt.subplots()\n",
    "\n",
    "im, cbar = heatmap(harvest, vegetables, farmers, ax=ax,\n",
    "                   cmap=\"YlGn\", cbarlabel=\"harvest [t/year]\")\n",
    "texts = annotate_heatmap(im, valfmt=\"{x:.1f} t\")\n",
    "\n",
    "fig.tight_layout()\n",
    "plt.show()"
   ]
  },
  {
   "cell_type": "code",
   "execution_count": null,
   "metadata": {},
   "outputs": [],
   "source": []
  }
 ],
 "metadata": {
  "kernelspec": {
   "display_name": "Python 3",
   "language": "python",
   "name": "python3"
  },
  "language_info": {
   "codemirror_mode": {
    "name": "ipython",
    "version": 3
   },
   "file_extension": ".py",
   "mimetype": "text/x-python",
   "name": "python",
   "nbconvert_exporter": "python",
   "pygments_lexer": "ipython3",
   "version": "3.7.4"
  }
 },
 "nbformat": 4,
 "nbformat_minor": 2
}
