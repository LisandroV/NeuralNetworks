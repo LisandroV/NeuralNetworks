{
 "cells": [
  {
   "cell_type": "code",
   "execution_count": 1,
   "metadata": {},
   "outputs": [],
   "source": [
    "import matplotlib.pyplot as plt\n",
    "import numpy as np\n",
    "\n",
    "#%connect_info\n",
    "import torch\n",
    "import torchvision\n",
    "import torch.nn as nn\n",
    "import torch.optim as optim\n",
    "from torch.autograd import Variable\n",
    "import torchvision.transforms as transforms\n",
    "\n",
    "from torchvision.datasets import MNIST"
   ]
  },
  {
   "cell_type": "markdown",
   "metadata": {},
   "source": [
    "# MNIST con Pytorch\n",
    "Pytorch facilita la creación de redes neuronales, como ejemplo puedes tomar la siguiente red que clasifica a los datos del conjunto MNIST haciendo uso de la arquitectura vista anteriormente: una capa de entrada con 784 neuronas, 27 neuronas en una capa oculta y una salida de 10 unidades.\n",
    "\n",
    "Para implementar una red con esta herramienta debes extender a la clase nn.Module y a sus métodos:\n",
    "- Constructor: donde estableces cuáles serán las capas que componen a la arquitectura\n",
    "- Forward: donde indicas como se conectan las capas indicadas en el constructor\n",
    "\n",
    "Ademas, para simplificar el proceso puedes agregar un metodo **train** al cual le pases el numero de iteraciones y otros parametros para entrenar la red."
   ]
  },
  {
   "cell_type": "code",
   "execution_count": 2,
   "metadata": {},
   "outputs": [],
   "source": [
    "#Descargamos el conjunto de datos en las variables.\n",
    "train_dataset_mnist = MNIST(root='./data',train=True,download=True,\n",
    "                          transform=transforms.ToTensor())\n",
    "test_dataset_mnist  = MNIST(root='./data',train=False,download=True,\n",
    "                          transform=transforms.ToTensor())\n",
    "\n",
    "params = {'batch_size': 64,\n",
    "          'shuffle': True,\n",
    "          'num_workers': 6}\n",
    "\n",
    "#Creamos un DataLoader,el cual nos permite iterar sobre nuestros datos y \n",
    "#administrarlos facilmente en lotes.\n",
    "train_loader_mnist  = torch.utils.data.DataLoader(dataset=train_dataset_mnist,batch_size=64,\n",
    "                                                 shuffle=True)\n",
    "\n",
    "test_loader_mnist   = torch.utils.data.DataLoader(dataset=test_dataset_mnist,batch_size=64,\n",
    "                                                 shuffle=True)"
   ]
  },
  {
   "cell_type": "code",
   "execution_count": 3,
   "metadata": {},
   "outputs": [],
   "source": [
    "def reshape_mnist(batch):\n",
    "    '''Recibe un batch de informacion de MNIST y lo aplana\n",
    "    Ej: [5,28,28]-> [5,784]'''\n",
    "    return batch.view(-1,28*28)\n",
    "\n",
    "def contarCorrectas(net,batch,labels,func=None):\n",
    "    '''Dado un batch y sus etiquetas, cuenta el numero de respuestas\n",
    "    correctas de una red, el parametro func aplica una modificacion al \n",
    "    tensor que contiene los datos'''\n",
    "    \n",
    "    if(func!=None):\n",
    "        batch=func(batch)\n",
    "        salidas=net(batch)\n",
    "    else:\n",
    "        salidas=net(batch)\n",
    "    respuestas=salidas.max(dim=1)[1]\n",
    "    cantidadCorrectas=(respuestas==labels).sum()\n",
    "    return cantidadCorrectas\n",
    "    \n",
    "def calcularPrecisionGlobal(net,data_loader,batch_size,func=None,cuda=False):\n",
    "    '''Calcula la precision de una red dado un data_loader,\n",
    "    recive una funcion que transforma los datos en caso de ser necesario'''\n",
    "    correctas=0\n",
    "    for (images,labels) in data_loader:\n",
    "        if(cuda and torch.cuda.is_available()):\n",
    "            images=images.cuda()\n",
    "            labels=labels.cuda()\n",
    "        correctas+=contarCorrectas(net,images,labels,func)        \n",
    "    correctas=correctas.data.tolist()\n",
    "    return (100*correctas)/(len(data_loader)*batch_size)"
   ]
  },
  {
   "cell_type": "code",
   "execution_count": 4,
   "metadata": {},
   "outputs": [
    {
     "name": "stdout",
     "output_type": "stream",
     "text": [
      "Epoch [0/25], Step 938, Loss: 2.2803\n",
      "Epoch [2/25], Step 938, Loss: 2.2437\n",
      "Epoch [4/25], Step 938, Loss: 2.1891\n",
      "Epoch [6/25], Step 938, Loss: 2.1272\n",
      "Epoch [8/25], Step 938, Loss: 2.0490\n",
      "Epoch [10/25], Step 938, Loss: 2.0188\n",
      "Epoch [12/25], Step 938, Loss: 1.9636\n",
      "Epoch [14/25], Step 938, Loss: 1.8086\n",
      "Epoch [16/25], Step 938, Loss: 1.7294\n",
      "Epoch [18/25], Step 938, Loss: 1.7050\n",
      "Epoch [20/25], Step 938, Loss: 1.4583\n",
      "Epoch [22/25], Step 938, Loss: 1.3667\n",
      "Epoch [24/25], Step 938, Loss: 1.4056\n"
     ]
    }
   ],
   "source": [
    "#Nuestro modelo debe heredar de nn.Module\n",
    "class MNIST_NET(nn.Module):\n",
    "    def __init__(self,input_size,hidden_size,num_classes):\n",
    "        super(MNIST_NET,self).__init__()\n",
    "        #Definimos nuestras unidades de entrada y las agregamos al objeto actual\n",
    "        self.fc1 = nn.Linear(input_size,hidden_size,bias=True)\n",
    "        self.sig1= nn.Sigmoid() \n",
    "        self.fc2 = nn.Linear(hidden_size,num_classes,bias=True)        \n",
    "    \n",
    "    def forward(self,input_data):\n",
    "        '''Definimos como seran procesados los datos de entrada'''\n",
    "        out=self.fc1(input_data) #Primero se hacen pasar por la capa lineal\n",
    "        out=self.sig1(out)       #Despues,la salida para por la funcion sigmode\n",
    "        out=self.fc2(out)        #La salida finalmente pasa por otra capa lineal\n",
    "        return out\n",
    "\n",
    "    def train(self,epochs,data_loader,criterion,optimizer,cuda=False):\n",
    "        '''Entrena la red net, por un numero de epocas \"epochs\" con el data_loader\n",
    "        proporcionado,usando como funcion de perdida la definida en \"criterion\" y el\n",
    "        optimizador pasado como parametro'''\n",
    "        for epoch in range(epochs):\n",
    "            for i,(images,labels) in enumerate(data_loader):\n",
    "\n",
    "                images = Variable(images.view(-1,28*28))#aplanamos el batch actual\n",
    "                labels = Variable(labels.view(-1,))     #convertimos el tensor a un tensor de valores unitarios\n",
    "                if(cuda and torch.cuda.is_available()): #Si nuestra PC cuenta con GPU,realizamos calculos en ella\n",
    "                    images=images.cuda()\n",
    "                    labels=labels.cuda()\n",
    "\n",
    "                optimizer.zero_grad()\n",
    "                outputs= self(images)#llamar a nuestro objeto con parametros es introducirlos a la red\n",
    "                loss   = criterion(outputs,labels)\n",
    "                loss.backward()\n",
    "                optimizer.step()\n",
    "\n",
    "            if (epoch) % 2 == 0:                              # Logging\n",
    "                print('Epoch [%d/%d], Step %d, Loss: %.4f'\n",
    "                 %(epoch, epochs, i+1, loss.item()))\n",
    "            \n",
    "#Instanciamos la red que ya conocemos para MNIST de 28*28 --> 27 --> 10\n",
    "Red =MNIST_NET(28*28,27,10)\n",
    "#Red.cuda() #puedes descomentar esta linea si tienes GPU disponible\n",
    "#Escogemos la funcion de error para el modelo (entropia cruzada)\n",
    "criterio   = nn.CrossEntropyLoss()\n",
    "optimizer  = torch.optim.SGD(Red.parameters(),lr=0.001)\n",
    "#Entrenamos la red durante 100 pasos,con entropia cruzada y SGD \n",
    "Red.train(25,train_loader_mnist,criterio,optimizer,cuda=False) #puedes agregar cuda=true si tienes GPU disponible"
   ]
  },
  {
   "cell_type": "code",
   "execution_count": 5,
   "metadata": {},
   "outputs": [
    {
     "name": "stdout",
     "output_type": "stream",
     "text": [
      "Precision en conjunto de entrenamiento: 70.3875%\n",
      "Precision en conjunto de validacion: 71.1485%\n"
     ]
    }
   ],
   "source": [
    "prec_train =calcularPrecisionGlobal(Red,train_loader_mnist,64,func=reshape_mnist,cuda=False)\n",
    "prec_val   =calcularPrecisionGlobal(Red,test_loader_mnist,64,func=reshape_mnist,cuda=False)\n",
    "print(\"Precision en conjunto de entrenamiento: %.4f%%\"%(prec_train))\n",
    "print(\"Precision en conjunto de validacion: %.4f%%\"%(prec_val))"
   ]
  }
 ],
 "metadata": {
  "kernelspec": {
   "display_name": "Python 3",
   "language": "python",
   "name": "python3"
  },
  "language_info": {
   "codemirror_mode": {
    "name": "ipython",
    "version": 3
   },
   "file_extension": ".py",
   "mimetype": "text/x-python",
   "name": "python",
   "nbconvert_exporter": "python",
   "pygments_lexer": "ipython3",
   "version": "3.7.4"
  }
 },
 "nbformat": 4,
 "nbformat_minor": 2
}
